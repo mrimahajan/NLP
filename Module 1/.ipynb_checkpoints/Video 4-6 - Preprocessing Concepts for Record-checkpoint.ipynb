{
 "cells": [
  {
   "cell_type": "markdown",
   "id": "1bc95a8a",
   "metadata": {},
   "source": [
    "# Video 4 - Basic Preprocessing Tasks"
   ]
  },
  {
   "cell_type": "code",
   "execution_count": 1,
   "id": "6d371301",
   "metadata": {
    "scrolled": true
   },
   "outputs": [],
   "source": [
    "# install nltk\n",
    "#!pip install nltk"
   ]
  },
  {
   "cell_type": "code",
   "execution_count": 2,
   "id": "cc5c21b7",
   "metadata": {},
   "outputs": [],
   "source": [
    "#import the libraries\n",
    "import nltk\n",
    "import pandas as pd"
   ]
  },
  {
   "cell_type": "markdown",
   "id": "cc1aa273",
   "metadata": {},
   "source": [
    "- nltk.download('punkt') downloads models for sentence tokenization,\n",
    "- nltk.download('wordnet') downloads WordNet for semantic analysis and lemmatization, and the\n",
    "- nltk.download('omw-1.4') downloads the Open Multilingual Wordnet corpus for multilingual semantic analysis."
   ]
  },
  {
   "cell_type": "code",
   "execution_count": 3,
   "id": "f87ee277",
   "metadata": {},
   "outputs": [
    {
     "name": "stderr",
     "output_type": "stream",
     "text": [
      "[nltk_data] Downloading package punkt to\n",
      "[nltk_data]     C:\\Users\\DELL\\AppData\\Roaming\\nltk_data...\n",
      "[nltk_data]   Unzipping tokenizers\\punkt.zip.\n",
      "[nltk_data] Downloading package wordnet to\n",
      "[nltk_data]     C:\\Users\\DELL\\AppData\\Roaming\\nltk_data...\n",
      "[nltk_data] Downloading package stopwords to\n",
      "[nltk_data]     C:\\Users\\DELL\\AppData\\Roaming\\nltk_data...\n",
      "[nltk_data]   Unzipping corpora\\stopwords.zip.\n",
      "[nltk_data] Downloading package omw-1.4 to\n",
      "[nltk_data]     C:\\Users\\DELL\\AppData\\Roaming\\nltk_data...\n"
     ]
    },
    {
     "data": {
      "text/plain": [
       "True"
      ]
     },
     "execution_count": 3,
     "metadata": {},
     "output_type": "execute_result"
    }
   ],
   "source": [
    "#download the necessary models for each task\n",
    "nltk.download('punkt')  # Download the tokenizer models\n",
    "nltk.download('wordnet')  # Download WordNet, required for semantic analysis for lemmatization\n",
    "nltk.download('stopwords')\n",
    "#nltk.download('averaged_perceptron_tagger')  # Download POS tagger\n",
    "nltk.download('omw-1.4')  # Download the WordNet OMW corpus"
   ]
  },
  {
   "cell_type": "markdown",
   "id": "5be70674",
   "metadata": {},
   "source": [
    "__Document 1__\n",
    "\n",
    "Birdwatching study, is a serene and educational hobby, which has captivated enthusiasts worldwide by offering an intimate glimpse into the avian world. This activity not only deepens one’s appreciation for nature’s diversity but also enhances observational skills, as birdwatchers learn to identify species by their plumage, calls, and behavior. The process begins with the birdwatcher positioning themselves in habitats ranging from dense forests to urban parks, armed with essential tools such as binoculars and field guides. These guides are invaluable for distinguishing between species, noting characteristics such as color patterns, sizes, and distinctive markings. Additionally, listening plays a crucial role in birdwatching; the ability to recognize birdsongs and calls can reveal the presence of species hidden from view. The practice also involves recording observations, often in a journal or a digital app, which contributes to citizen science by providing data on bird populations and migration patterns. This aspect of birdwatching underscores its significance beyond recreation, highlighting its contribution to conservation efforts. Through these endeavors, birdwatching fosters a connection with nature, encourages environmental stewardship, and provides insights into the ecological roles of birds within their habitats. As such, it serves as a multifaceted activity that combines leisure with learning and conservation.\n",
    "\n",
    "__Document 2__\n",
    "\n",
    "Spelunking, an adventurous and enlightening hobby, has attracted enthusiasts worldwide with its thrilling exploration of the subterranean world. This activity not only heightens one's appreciation for the planet's underground beauty but also sharpens exploratory skills, as spelunkers learn to navigate through caves, recognizing formations like stalactites, stalagmites, and mineral deposits. The journey begins with the spelunker equipping themselves with essential gear such as helmets, headlamps, and protective clothing, venturing into environments ranging from vast cave systems to narrow underground passages. These tools are crucial for safe navigation and observation of geological features, enabling spelunkers to identify and appreciate the unique characteristics of each cave. Moreover, listening plays a pivotal role in spelunking; the sounds of dripping water or the echo of a chamber can enhance the sensory experience. The practice also includes documenting discoveries, often in a journal or digital format, contributing to scientific knowledge by providing data on geology, hydrology, and cave biology. This aspect of spelunking emphasizes its value beyond adventure, highlighting its contribution to scientific understanding and conservation. Through these pursuits, spelunking fosters a connection with the earth's hidden landscapes, promotes environmental awareness, and provides insights into the geological processes that shape our world. As such, it serves as a multifaceted activity that blends excitement with education and environmental stewardship.\n",
    "\n",
    "\n",
    "__Document 3__\n",
    "\n",
    "Golfing, a refined and strategic hobby, has enchanted enthusiasts worldwide with its blend of skill, patience, and outdoor beauty. This activity not only deepens one's appreciation for meticulously designed landscapes but also hones precision and focus, as golfers learn to master strokes, understand course topography, and gauge environmental factors like wind and terrain. The experience begins with the golfer equipping themselves with essential gear such as clubs, balls, and tees, embarking on courses that range from lush greens to challenging sand traps and water hazards. These tools are indispensable for executing a variety of shots, allowing golfers to navigate through courses while aiming to minimize their strokes. Moreover, observation plays a crucial role in golfing; the ability to read greens and anticipate ball paths can significantly influence gameplay. The practice also involves keeping score, often in a digital app or scorecard, which adds a competitive element and enables tracking of progress and skill improvement. This aspect of golfing underscores its appeal beyond leisure, highlighting its capacity for personal challenge and mental discipline. Through these endeavors, golfing fosters a connection with the outdoors, encourages sportsmanship, and provides insights into personal strategy and resilience. As such, it serves as a multifaceted activity that combines relaxation with challenge and personal development."
   ]
  },
  {
   "cell_type": "code",
   "execution_count": 4,
   "id": "75644c1d",
   "metadata": {},
   "outputs": [],
   "source": [
    "#input text\n",
    "doc1 = \"Birdwatching study, is a serene and educational hobby, which has captivated enthusiasts worldwide by offering an intimate glimpse into the avian world. This activity not only deepens one’s appreciation for nature’s diversity but also enhances observational skills, as birdwatchers learn to identify species by their plumage, calls, and behavior. The process begins with the birdwatcher positioning themselves in habitats ranging from dense forests to urban parks, armed with essential tools such as binoculars and field guides. These guides are invaluable for distinguishing between species, noting characteristics such as color patterns, sizes, and distinctive markings. Additionally, listening plays a crucial role in birdwatching; the ability to recognize birdsongs and calls can reveal the presence of species hidden from view. The practice also involves recording observations, often in a journal or a digital app, which contributes to citizen science by providing data on bird populations and migration patterns. This aspect of birdwatching underscores its significance beyond recreation, highlighting its contribution to conservation efforts. Through these endeavors, birdwatching fosters a connection with nature, encourages environmental stewardship, and provides insights into the ecological roles of birds within their habitats. As such, it serves as a multifaceted activity that combines leisure with learning and conservation.\"\n",
    "doc2 = \"Spelunking, an adventurous and enlightening hobby, has attracted enthusiasts worldwide with its thrilling exploration of the subterranean world. This activity not only heightens one's appreciation for the planet's underground beauty but also sharpens exploratory skills, as spelunkers learn to navigate through caves, recognizing formations like stalactites, stalagmites, and mineral deposits. The journey begins with the spelunker equipping themselves with essential gear such as helmets, headlamps, and protective clothing, venturing into environments ranging from vast cave systems to narrow underground passages. These tools are crucial for safe navigation and observation of geological features, enabling spelunkers to identify and appreciate the unique characteristics of each cave. Moreover, listening plays a pivotal role in spelunking; the sounds of dripping water or the echo of a chamber can enhance the sensory experience. The practice also includes documenting discoveries, often in a journal or digital format, contributing to scientific knowledge by providing data on geology, hydrology, and cave biology. This aspect of spelunking emphasizes its value beyond adventure, highlighting its contribution to scientific understanding and conservation. Through these pursuits, spelunking fosters a connection with the earth's hidden landscapes, promotes environmental awareness, and provides insights into the geological processes that shape our world. As such, it serves as a multifaceted activity that blends excitement with education and environmental stewardship.\"\n",
    "doc3 = \"Golfing, a refined and strategic hobby, has enchanted enthusiasts worldwide with its blend of skill, patience, and outdoor beauty. This activity not only deepens one's appreciation for meticulously designed landscapes but also hones precision and focus, as golfers learn to master strokes, understand course topography, and gauge environmental factors like wind and terrain. The experience begins with the golfer equipping themselves with essential gear such as clubs, balls, and tees, embarking on courses that range from lush greens to challenging sand traps and water hazards. These tools are indispensable for executing a variety of shots, allowing golfers to navigate through courses while aiming to minimize their strokes. Moreover, observation plays a crucial role in golfing; the ability to read greens and anticipate ball paths can significantly influence gameplay. The practice also involves keeping score, often in a digital app or scorecard, which adds a competitive element and enables tracking of progress and skill improvement. This aspect of golfing underscores its appeal beyond leisure, highlighting its capacity for personal challenge and mental discipline. Through these endeavors, golfing fosters a connection with the outdoors, encourages sportsmanship, and provides insights into personal strategy and resilience. As such, it serves as a multifaceted activity that combines relaxation with challenge and personal development.\"\n",
    "\n",
    "corpus = [doc1, doc2, doc3]"
   ]
  },
  {
   "cell_type": "markdown",
   "id": "a67d7e8d",
   "metadata": {},
   "source": [
    "## Tokenization"
   ]
  },
  {
   "cell_type": "markdown",
   "id": "2638d94d",
   "metadata": {},
   "source": [
    "- Splits the document into individual words and each word is considered as a token"
   ]
  },
  {
   "cell_type": "code",
   "execution_count": 5,
   "id": "8b8f81ca",
   "metadata": {
    "scrolled": false
   },
   "outputs": [
    {
     "name": "stdout",
     "output_type": "stream",
     "text": [
      "\n",
      "Tokenized Documents:\n",
      "Document 1 Tokens: ['Birdwatching', 'study', ',', 'is', 'a', 'serene', 'and', 'educational', 'hobby', ',', 'which', 'has', 'captivated', 'enthusiasts', 'worldwide', 'by', 'offering', 'an', 'intimate', 'glimpse', 'into', 'the', 'avian', 'world', '.', 'This', 'activity', 'not', 'only', 'deepens', 'one', '’', 's', 'appreciation', 'for', 'nature', '’', 's', 'diversity', 'but', 'also', 'enhances', 'observational', 'skills', ',', 'as', 'birdwatchers', 'learn', 'to', 'identify', 'species', 'by', 'their', 'plumage', ',', 'calls', ',', 'and', 'behavior', '.', 'The', 'process', 'begins', 'with', 'the', 'birdwatcher', 'positioning', 'themselves', 'in', 'habitats', 'ranging', 'from', 'dense', 'forests', 'to', 'urban', 'parks', ',', 'armed', 'with', 'essential', 'tools', 'such', 'as', 'binoculars', 'and', 'field', 'guides', '.', 'These', 'guides', 'are', 'invaluable', 'for', 'distinguishing', 'between', 'species', ',', 'noting', 'characteristics', 'such', 'as', 'color', 'patterns', ',', 'sizes', ',', 'and', 'distinctive', 'markings', '.', 'Additionally', ',', 'listening', 'plays', 'a', 'crucial', 'role', 'in', 'birdwatching', ';', 'the', 'ability', 'to', 'recognize', 'birdsongs', 'and', 'calls', 'can', 'reveal', 'the', 'presence', 'of', 'species', 'hidden', 'from', 'view', '.', 'The', 'practice', 'also', 'involves', 'recording', 'observations', ',', 'often', 'in', 'a', 'journal', 'or', 'a', 'digital', 'app', ',', 'which', 'contributes', 'to', 'citizen', 'science', 'by', 'providing', 'data', 'on', 'bird', 'populations', 'and', 'migration', 'patterns', '.', 'This', 'aspect', 'of', 'birdwatching', 'underscores', 'its', 'significance', 'beyond', 'recreation', ',', 'highlighting', 'its', 'contribution', 'to', 'conservation', 'efforts', '.', 'Through', 'these', 'endeavors', ',', 'birdwatching', 'fosters', 'a', 'connection', 'with', 'nature', ',', 'encourages', 'environmental', 'stewardship', ',', 'and', 'provides', 'insights', 'into', 'the', 'ecological', 'roles', 'of', 'birds', 'within', 'their', 'habitats', '.', 'As', 'such', ',', 'it', 'serves', 'as', 'a', 'multifaceted', 'activity', 'that', 'combines', 'leisure', 'with', 'learning', 'and', 'conservation', '.'] ... (Total: 231 )\n",
      "\n",
      "Document 2 Tokens: ['Spelunking', ',', 'an', 'adventurous', 'and', 'enlightening', 'hobby', ',', 'has', 'attracted', 'enthusiasts', 'worldwide', 'with', 'its', 'thrilling', 'exploration', 'of', 'the', 'subterranean', 'world', '.', 'This', 'activity', 'not', 'only', 'heightens', 'one', \"'s\", 'appreciation', 'for', 'the', 'planet', \"'s\", 'underground', 'beauty', 'but', 'also', 'sharpens', 'exploratory', 'skills', ',', 'as', 'spelunkers', 'learn', 'to', 'navigate', 'through', 'caves', ',', 'recognizing', 'formations', 'like', 'stalactites', ',', 'stalagmites', ',', 'and', 'mineral', 'deposits', '.', 'The', 'journey', 'begins', 'with', 'the', 'spelunker', 'equipping', 'themselves', 'with', 'essential', 'gear', 'such', 'as', 'helmets', ',', 'headlamps', ',', 'and', 'protective', 'clothing', ',', 'venturing', 'into', 'environments', 'ranging', 'from', 'vast', 'cave', 'systems', 'to', 'narrow', 'underground', 'passages', '.', 'These', 'tools', 'are', 'crucial', 'for', 'safe', 'navigation', 'and', 'observation', 'of', 'geological', 'features', ',', 'enabling', 'spelunkers', 'to', 'identify', 'and', 'appreciate', 'the', 'unique', 'characteristics', 'of', 'each', 'cave', '.', 'Moreover', ',', 'listening', 'plays', 'a', 'pivotal', 'role', 'in', 'spelunking', ';', 'the', 'sounds', 'of', 'dripping', 'water', 'or', 'the', 'echo', 'of', 'a', 'chamber', 'can', 'enhance', 'the', 'sensory', 'experience', '.', 'The', 'practice', 'also', 'includes', 'documenting', 'discoveries', ',', 'often', 'in', 'a', 'journal', 'or', 'digital', 'format', ',', 'contributing', 'to', 'scientific', 'knowledge', 'by', 'providing', 'data', 'on', 'geology', ',', 'hydrology', ',', 'and', 'cave', 'biology', '.', 'This', 'aspect', 'of', 'spelunking', 'emphasizes', 'its', 'value', 'beyond', 'adventure', ',', 'highlighting', 'its', 'contribution', 'to', 'scientific', 'understanding', 'and', 'conservation', '.', 'Through', 'these', 'pursuits', ',', 'spelunking', 'fosters', 'a', 'connection', 'with', 'the', 'earth', \"'s\", 'hidden', 'landscapes', ',', 'promotes', 'environmental', 'awareness', ',', 'and', 'provides', 'insights', 'into', 'the', 'geological', 'processes', 'that', 'shape', 'our', 'world', '.', 'As', 'such', ',', 'it', 'serves', 'as', 'a', 'multifaceted', 'activity', 'that', 'blends', 'excitement', 'with', 'education', 'and', 'environmental', 'stewardship', '.'] ... (Total: 246 )\n",
      "\n",
      "Document 3 Tokens: ['Golfing', ',', 'a', 'refined', 'and', 'strategic', 'hobby', ',', 'has', 'enchanted', 'enthusiasts', 'worldwide', 'with', 'its', 'blend', 'of', 'skill', ',', 'patience', ',', 'and', 'outdoor', 'beauty', '.', 'This', 'activity', 'not', 'only', 'deepens', 'one', \"'s\", 'appreciation', 'for', 'meticulously', 'designed', 'landscapes', 'but', 'also', 'hones', 'precision', 'and', 'focus', ',', 'as', 'golfers', 'learn', 'to', 'master', 'strokes', ',', 'understand', 'course', 'topography', ',', 'and', 'gauge', 'environmental', 'factors', 'like', 'wind', 'and', 'terrain', '.', 'The', 'experience', 'begins', 'with', 'the', 'golfer', 'equipping', 'themselves', 'with', 'essential', 'gear', 'such', 'as', 'clubs', ',', 'balls', ',', 'and', 'tees', ',', 'embarking', 'on', 'courses', 'that', 'range', 'from', 'lush', 'greens', 'to', 'challenging', 'sand', 'traps', 'and', 'water', 'hazards', '.', 'These', 'tools', 'are', 'indispensable', 'for', 'executing', 'a', 'variety', 'of', 'shots', ',', 'allowing', 'golfers', 'to', 'navigate', 'through', 'courses', 'while', 'aiming', 'to', 'minimize', 'their', 'strokes', '.', 'Moreover', ',', 'observation', 'plays', 'a', 'crucial', 'role', 'in', 'golfing', ';', 'the', 'ability', 'to', 'read', 'greens', 'and', 'anticipate', 'ball', 'paths', 'can', 'significantly', 'influence', 'gameplay', '.', 'The', 'practice', 'also', 'involves', 'keeping', 'score', ',', 'often', 'in', 'a', 'digital', 'app', 'or', 'scorecard', ',', 'which', 'adds', 'a', 'competitive', 'element', 'and', 'enables', 'tracking', 'of', 'progress', 'and', 'skill', 'improvement', '.', 'This', 'aspect', 'of', 'golfing', 'underscores', 'its', 'appeal', 'beyond', 'leisure', ',', 'highlighting', 'its', 'capacity', 'for', 'personal', 'challenge', 'and', 'mental', 'discipline', '.', 'Through', 'these', 'endeavors', ',', 'golfing', 'fosters', 'a', 'connection', 'with', 'the', 'outdoors', ',', 'encourages', 'sportsmanship', ',', 'and', 'provides', 'insights', 'into', 'personal', 'strategy', 'and', 'resilience', '.', 'As', 'such', ',', 'it', 'serves', 'as', 'a', 'multifaceted', 'activity', 'that', 'combines', 'relaxation', 'with', 'challenge', 'and', 'personal', 'development', '.'] ... (Total: 238 )\n",
      "\n"
     ]
    }
   ],
   "source": [
    "#tokenization\n",
    "from nltk.tokenize import word_tokenize\n",
    "tokenized_docs = []\n",
    "for doc in corpus:\n",
    "  tokens = word_tokenize(doc)\n",
    "  tokenized_docs.append(tokens)\n",
    "\n",
    "#printing the all the tokens for all documents and the token lengths for each document    \n",
    "print(\"\\nTokenized Documents:\")\n",
    "for i, doc in enumerate(tokenized_docs):\n",
    "  print(f\"Document {i+1} Tokens:\", doc[:], \"... (Total:\", len(doc), \")\")\n",
    "  print()  # Add an empty print statement for a new line"
   ]
  },
  {
   "cell_type": "markdown",
   "id": "89ab8f1d",
   "metadata": {},
   "source": [
    "## Lowercasing"
   ]
  },
  {
   "cell_type": "markdown",
   "id": "e051d537",
   "metadata": {},
   "source": [
    "- Reduces size of data/vocabulary\n",
    "- Makes the data consistent"
   ]
  },
  {
   "cell_type": "code",
   "execution_count": 6,
   "id": "5cb559a9",
   "metadata": {
    "scrolled": false
   },
   "outputs": [
    {
     "name": "stdout",
     "output_type": "stream",
     "text": [
      "\n",
      "Tokenized and Lowercased Documents:\n",
      "Document 1 Tokens: ['birdwatching', 'study', ',', 'is', 'a', 'serene', 'and', 'educational', 'hobby', ',', 'which', 'has', 'captivated', 'enthusiasts', 'worldwide', 'by', 'offering', 'an', 'intimate', 'glimpse', 'into', 'the', 'avian', 'world', '.', 'this', 'activity', 'not', 'only', 'deepens', 'one', '’', 's', 'appreciation', 'for', 'nature', '’', 's', 'diversity', 'but', 'also', 'enhances', 'observational', 'skills', ',', 'as', 'birdwatchers', 'learn', 'to', 'identify', 'species', 'by', 'their', 'plumage', ',', 'calls', ',', 'and', 'behavior', '.', 'the', 'process', 'begins', 'with', 'the', 'birdwatcher', 'positioning', 'themselves', 'in', 'habitats', 'ranging', 'from', 'dense', 'forests', 'to', 'urban', 'parks', ',', 'armed', 'with', 'essential', 'tools', 'such', 'as', 'binoculars', 'and', 'field', 'guides', '.', 'these', 'guides', 'are', 'invaluable', 'for', 'distinguishing', 'between', 'species', ',', 'noting', 'characteristics', 'such', 'as', 'color', 'patterns', ',', 'sizes', ',', 'and', 'distinctive', 'markings', '.', 'additionally', ',', 'listening', 'plays', 'a', 'crucial', 'role', 'in', 'birdwatching', ';', 'the', 'ability', 'to', 'recognize', 'birdsongs', 'and', 'calls', 'can', 'reveal', 'the', 'presence', 'of', 'species', 'hidden', 'from', 'view', '.', 'the', 'practice', 'also', 'involves', 'recording', 'observations', ',', 'often', 'in', 'a', 'journal', 'or', 'a', 'digital', 'app', ',', 'which', 'contributes', 'to', 'citizen', 'science', 'by', 'providing', 'data', 'on', 'bird', 'populations', 'and', 'migration', 'patterns', '.', 'this', 'aspect', 'of', 'birdwatching', 'underscores', 'its', 'significance', 'beyond', 'recreation', ',', 'highlighting', 'its', 'contribution', 'to', 'conservation', 'efforts', '.', 'through', 'these', 'endeavors', ',', 'birdwatching', 'fosters', 'a', 'connection', 'with', 'nature', ',', 'encourages', 'environmental', 'stewardship', ',', 'and', 'provides', 'insights', 'into', 'the', 'ecological', 'roles', 'of', 'birds', 'within', 'their', 'habitats', '.', 'as', 'such', ',', 'it', 'serves', 'as', 'a', 'multifaceted', 'activity', 'that', 'combines', 'leisure', 'with', 'learning', 'and', 'conservation', '.'] ... (Total: 231 )\n",
      "\n",
      "Document 2 Tokens: ['spelunking', ',', 'an', 'adventurous', 'and', 'enlightening', 'hobby', ',', 'has', 'attracted', 'enthusiasts', 'worldwide', 'with', 'its', 'thrilling', 'exploration', 'of', 'the', 'subterranean', 'world', '.', 'this', 'activity', 'not', 'only', 'heightens', 'one', \"'s\", 'appreciation', 'for', 'the', 'planet', \"'s\", 'underground', 'beauty', 'but', 'also', 'sharpens', 'exploratory', 'skills', ',', 'as', 'spelunkers', 'learn', 'to', 'navigate', 'through', 'caves', ',', 'recognizing', 'formations', 'like', 'stalactites', ',', 'stalagmites', ',', 'and', 'mineral', 'deposits', '.', 'the', 'journey', 'begins', 'with', 'the', 'spelunker', 'equipping', 'themselves', 'with', 'essential', 'gear', 'such', 'as', 'helmets', ',', 'headlamps', ',', 'and', 'protective', 'clothing', ',', 'venturing', 'into', 'environments', 'ranging', 'from', 'vast', 'cave', 'systems', 'to', 'narrow', 'underground', 'passages', '.', 'these', 'tools', 'are', 'crucial', 'for', 'safe', 'navigation', 'and', 'observation', 'of', 'geological', 'features', ',', 'enabling', 'spelunkers', 'to', 'identify', 'and', 'appreciate', 'the', 'unique', 'characteristics', 'of', 'each', 'cave', '.', 'moreover', ',', 'listening', 'plays', 'a', 'pivotal', 'role', 'in', 'spelunking', ';', 'the', 'sounds', 'of', 'dripping', 'water', 'or', 'the', 'echo', 'of', 'a', 'chamber', 'can', 'enhance', 'the', 'sensory', 'experience', '.', 'the', 'practice', 'also', 'includes', 'documenting', 'discoveries', ',', 'often', 'in', 'a', 'journal', 'or', 'digital', 'format', ',', 'contributing', 'to', 'scientific', 'knowledge', 'by', 'providing', 'data', 'on', 'geology', ',', 'hydrology', ',', 'and', 'cave', 'biology', '.', 'this', 'aspect', 'of', 'spelunking', 'emphasizes', 'its', 'value', 'beyond', 'adventure', ',', 'highlighting', 'its', 'contribution', 'to', 'scientific', 'understanding', 'and', 'conservation', '.', 'through', 'these', 'pursuits', ',', 'spelunking', 'fosters', 'a', 'connection', 'with', 'the', 'earth', \"'s\", 'hidden', 'landscapes', ',', 'promotes', 'environmental', 'awareness', ',', 'and', 'provides', 'insights', 'into', 'the', 'geological', 'processes', 'that', 'shape', 'our', 'world', '.', 'as', 'such', ',', 'it', 'serves', 'as', 'a', 'multifaceted', 'activity', 'that', 'blends', 'excitement', 'with', 'education', 'and', 'environmental', 'stewardship', '.'] ... (Total: 246 )\n",
      "\n",
      "Document 3 Tokens: ['golfing', ',', 'a', 'refined', 'and', 'strategic', 'hobby', ',', 'has', 'enchanted', 'enthusiasts', 'worldwide', 'with', 'its', 'blend', 'of', 'skill', ',', 'patience', ',', 'and', 'outdoor', 'beauty', '.', 'this', 'activity', 'not', 'only', 'deepens', 'one', \"'s\", 'appreciation', 'for', 'meticulously', 'designed', 'landscapes', 'but', 'also', 'hones', 'precision', 'and', 'focus', ',', 'as', 'golfers', 'learn', 'to', 'master', 'strokes', ',', 'understand', 'course', 'topography', ',', 'and', 'gauge', 'environmental', 'factors', 'like', 'wind', 'and', 'terrain', '.', 'the', 'experience', 'begins', 'with', 'the', 'golfer', 'equipping', 'themselves', 'with', 'essential', 'gear', 'such', 'as', 'clubs', ',', 'balls', ',', 'and', 'tees', ',', 'embarking', 'on', 'courses', 'that', 'range', 'from', 'lush', 'greens', 'to', 'challenging', 'sand', 'traps', 'and', 'water', 'hazards', '.', 'these', 'tools', 'are', 'indispensable', 'for', 'executing', 'a', 'variety', 'of', 'shots', ',', 'allowing', 'golfers', 'to', 'navigate', 'through', 'courses', 'while', 'aiming', 'to', 'minimize', 'their', 'strokes', '.', 'moreover', ',', 'observation', 'plays', 'a', 'crucial', 'role', 'in', 'golfing', ';', 'the', 'ability', 'to', 'read', 'greens', 'and', 'anticipate', 'ball', 'paths', 'can', 'significantly', 'influence', 'gameplay', '.', 'the', 'practice', 'also', 'involves', 'keeping', 'score', ',', 'often', 'in', 'a', 'digital', 'app', 'or', 'scorecard', ',', 'which', 'adds', 'a', 'competitive', 'element', 'and', 'enables', 'tracking', 'of', 'progress', 'and', 'skill', 'improvement', '.', 'this', 'aspect', 'of', 'golfing', 'underscores', 'its', 'appeal', 'beyond', 'leisure', ',', 'highlighting', 'its', 'capacity', 'for', 'personal', 'challenge', 'and', 'mental', 'discipline', '.', 'through', 'these', 'endeavors', ',', 'golfing', 'fosters', 'a', 'connection', 'with', 'the', 'outdoors', ',', 'encourages', 'sportsmanship', ',', 'and', 'provides', 'insights', 'into', 'personal', 'strategy', 'and', 'resilience', '.', 'as', 'such', ',', 'it', 'serves', 'as', 'a', 'multifaceted', 'activity', 'that', 'combines', 'relaxation', 'with', 'challenge', 'and', 'personal', 'development', '.'] ... (Total: 238 )\n",
      "\n"
     ]
    }
   ],
   "source": [
    "# Convert tokens to lowercase\n",
    "lowercased_docs = []\n",
    "for tokens in tokenized_docs:\n",
    "    lowercased_tokens = [token.lower() for token in tokens]\n",
    "    lowercased_docs.append(lowercased_tokens)\n",
    "\n",
    "# Print the tokenized and lowercased documents\n",
    "print(\"\\nTokenized and Lowercased Documents:\")\n",
    "for i, doc in enumerate(lowercased_docs):\n",
    "    print(f\"Document {i+1} Tokens:\", doc, \"... (Total:\", len(doc), \")\\n\")"
   ]
  },
  {
   "cell_type": "markdown",
   "id": "d2036310",
   "metadata": {},
   "source": [
    "## Removing Punctuations"
   ]
  },
  {
   "cell_type": "markdown",
   "id": "7119f39b",
   "metadata": {},
   "source": [
    "- Makes the text simpler for the model"
   ]
  },
  {
   "cell_type": "code",
   "execution_count": 7,
   "id": "bb5eb621",
   "metadata": {},
   "outputs": [
    {
     "name": "stdout",
     "output_type": "stream",
     "text": [
      "\n",
      "Documents with Tokens Lowercased and Punctuation Removed:\n",
      "Document 1 Tokens: ['birdwatching', 'study', 'is', 'a', 'serene', 'and', 'educational', 'hobby', 'which', 'has', 'captivated', 'enthusiasts', 'worldwide', 'by', 'offering', 'an', 'intimate', 'glimpse', 'into', 'the', 'avian', 'world', 'this', 'activity', 'not', 'only', 'deepens', 'one', 's', 'appreciation', 'for', 'nature', 's', 'diversity', 'but', 'also', 'enhances', 'observational', 'skills', 'as', 'birdwatchers', 'learn', 'to', 'identify', 'species', 'by', 'their', 'plumage', 'calls', 'and', 'behavior', 'the', 'process', 'begins', 'with', 'the', 'birdwatcher', 'positioning', 'themselves', 'in', 'habitats', 'ranging', 'from', 'dense', 'forests', 'to', 'urban', 'parks', 'armed', 'with', 'essential', 'tools', 'such', 'as', 'binoculars', 'and', 'field', 'guides', 'these', 'guides', 'are', 'invaluable', 'for', 'distinguishing', 'between', 'species', 'noting', 'characteristics', 'such', 'as', 'color', 'patterns', 'sizes', 'and', 'distinctive', 'markings', 'additionally', 'listening', 'plays', 'a', 'crucial', 'role', 'in', 'birdwatching', 'the', 'ability', 'to', 'recognize', 'birdsongs', 'and', 'calls', 'can', 'reveal', 'the', 'presence', 'of', 'species', 'hidden', 'from', 'view', 'the', 'practice', 'also', 'involves', 'recording', 'observations', 'often', 'in', 'a', 'journal', 'or', 'a', 'digital', 'app', 'which', 'contributes', 'to', 'citizen', 'science', 'by', 'providing', 'data', 'on', 'bird', 'populations', 'and', 'migration', 'patterns', 'this', 'aspect', 'of', 'birdwatching', 'underscores', 'its', 'significance', 'beyond', 'recreation', 'highlighting', 'its', 'contribution', 'to', 'conservation', 'efforts', 'through', 'these', 'endeavors', 'birdwatching', 'fosters', 'a', 'connection', 'with', 'nature', 'encourages', 'environmental', 'stewardship', 'and', 'provides', 'insights', 'into', 'the', 'ecological', 'roles', 'of', 'birds', 'within', 'their', 'habitats', 'as', 'such', 'it', 'serves', 'as', 'a', 'multifaceted', 'activity', 'that', 'combines', 'leisure', 'with', 'learning', 'and', 'conservation'] ... (Total: 202 )\n",
      "\n",
      "Document 2 Tokens: ['spelunking', 'an', 'adventurous', 'and', 'enlightening', 'hobby', 'has', 'attracted', 'enthusiasts', 'worldwide', 'with', 'its', 'thrilling', 'exploration', 'of', 'the', 'subterranean', 'world', 'this', 'activity', 'not', 'only', 'heightens', 'one', 'appreciation', 'for', 'the', 'planet', 'underground', 'beauty', 'but', 'also', 'sharpens', 'exploratory', 'skills', 'as', 'spelunkers', 'learn', 'to', 'navigate', 'through', 'caves', 'recognizing', 'formations', 'like', 'stalactites', 'stalagmites', 'and', 'mineral', 'deposits', 'the', 'journey', 'begins', 'with', 'the', 'spelunker', 'equipping', 'themselves', 'with', 'essential', 'gear', 'such', 'as', 'helmets', 'headlamps', 'and', 'protective', 'clothing', 'venturing', 'into', 'environments', 'ranging', 'from', 'vast', 'cave', 'systems', 'to', 'narrow', 'underground', 'passages', 'these', 'tools', 'are', 'crucial', 'for', 'safe', 'navigation', 'and', 'observation', 'of', 'geological', 'features', 'enabling', 'spelunkers', 'to', 'identify', 'and', 'appreciate', 'the', 'unique', 'characteristics', 'of', 'each', 'cave', 'moreover', 'listening', 'plays', 'a', 'pivotal', 'role', 'in', 'spelunking', 'the', 'sounds', 'of', 'dripping', 'water', 'or', 'the', 'echo', 'of', 'a', 'chamber', 'can', 'enhance', 'the', 'sensory', 'experience', 'the', 'practice', 'also', 'includes', 'documenting', 'discoveries', 'often', 'in', 'a', 'journal', 'or', 'digital', 'format', 'contributing', 'to', 'scientific', 'knowledge', 'by', 'providing', 'data', 'on', 'geology', 'hydrology', 'and', 'cave', 'biology', 'this', 'aspect', 'of', 'spelunking', 'emphasizes', 'its', 'value', 'beyond', 'adventure', 'highlighting', 'its', 'contribution', 'to', 'scientific', 'understanding', 'and', 'conservation', 'through', 'these', 'pursuits', 'spelunking', 'fosters', 'a', 'connection', 'with', 'the', 'earth', 'hidden', 'landscapes', 'promotes', 'environmental', 'awareness', 'and', 'provides', 'insights', 'into', 'the', 'geological', 'processes', 'that', 'shape', 'our', 'world', 'as', 'such', 'it', 'serves', 'as', 'a', 'multifaceted', 'activity', 'that', 'blends', 'excitement', 'with', 'education', 'and', 'environmental', 'stewardship'] ... (Total: 213 )\n",
      "\n",
      "Document 3 Tokens: ['golfing', 'a', 'refined', 'and', 'strategic', 'hobby', 'has', 'enchanted', 'enthusiasts', 'worldwide', 'with', 'its', 'blend', 'of', 'skill', 'patience', 'and', 'outdoor', 'beauty', 'this', 'activity', 'not', 'only', 'deepens', 'one', 'appreciation', 'for', 'meticulously', 'designed', 'landscapes', 'but', 'also', 'hones', 'precision', 'and', 'focus', 'as', 'golfers', 'learn', 'to', 'master', 'strokes', 'understand', 'course', 'topography', 'and', 'gauge', 'environmental', 'factors', 'like', 'wind', 'and', 'terrain', 'the', 'experience', 'begins', 'with', 'the', 'golfer', 'equipping', 'themselves', 'with', 'essential', 'gear', 'such', 'as', 'clubs', 'balls', 'and', 'tees', 'embarking', 'on', 'courses', 'that', 'range', 'from', 'lush', 'greens', 'to', 'challenging', 'sand', 'traps', 'and', 'water', 'hazards', 'these', 'tools', 'are', 'indispensable', 'for', 'executing', 'a', 'variety', 'of', 'shots', 'allowing', 'golfers', 'to', 'navigate', 'through', 'courses', 'while', 'aiming', 'to', 'minimize', 'their', 'strokes', 'moreover', 'observation', 'plays', 'a', 'crucial', 'role', 'in', 'golfing', 'the', 'ability', 'to', 'read', 'greens', 'and', 'anticipate', 'ball', 'paths', 'can', 'significantly', 'influence', 'gameplay', 'the', 'practice', 'also', 'involves', 'keeping', 'score', 'often', 'in', 'a', 'digital', 'app', 'or', 'scorecard', 'which', 'adds', 'a', 'competitive', 'element', 'and', 'enables', 'tracking', 'of', 'progress', 'and', 'skill', 'improvement', 'this', 'aspect', 'of', 'golfing', 'underscores', 'its', 'appeal', 'beyond', 'leisure', 'highlighting', 'its', 'capacity', 'for', 'personal', 'challenge', 'and', 'mental', 'discipline', 'through', 'these', 'endeavors', 'golfing', 'fosters', 'a', 'connection', 'with', 'the', 'outdoors', 'encourages', 'sportsmanship', 'and', 'provides', 'insights', 'into', 'personal', 'strategy', 'and', 'resilience', 'as', 'such', 'it', 'serves', 'as', 'a', 'multifaceted', 'activity', 'that', 'combines', 'relaxation', 'with', 'challenge', 'and', 'personal', 'development'] ... (Total: 208 )\n",
      "\n"
     ]
    }
   ],
   "source": [
    "# import string\n",
    "\n",
    "# Remove punctuation\n",
    "no_punctuation_docs = []\n",
    "for tokens in lowercased_docs:\n",
    "    filtered_tokens = [token for token in tokens if token.isalpha()]  # Remove punctuation\n",
    "    no_punctuation_docs.append(filtered_tokens)\n",
    "\n",
    "# Print the documents without punctuation, along with their token counts\n",
    "print(\"\\nDocuments with Tokens Lowercased and Punctuation Removed:\")\n",
    "for i, doc in enumerate(no_punctuation_docs):\n",
    "    print(f\"Document {i+1} Tokens:\", doc, \"... (Total:\", len(doc), \")\\n\")"
   ]
  },
  {
   "cell_type": "markdown",
   "id": "0c687d17",
   "metadata": {},
   "source": [
    "## Stopwords Removal"
   ]
  },
  {
   "cell_type": "code",
   "execution_count": 8,
   "id": "0572be7b",
   "metadata": {
    "scrolled": false
   },
   "outputs": [
    {
     "name": "stdout",
     "output_type": "stream",
     "text": [
      "\n",
      "Documents with Tokens Lowercased, Punctuation Removed, and Stopwords Removed:\n",
      "Document 1 Tokens: ['birdwatching', 'study', 'serene', 'educational', 'hobby', 'captivated', 'enthusiasts', 'worldwide', 'offering', 'intimate', 'glimpse', 'avian', 'world', 'activity', 'deepens', 'one', 'appreciation', 'nature', 'diversity', 'also', 'enhances', 'observational', 'skills', 'birdwatchers', 'learn', 'identify', 'species', 'plumage', 'calls', 'behavior', 'process', 'begins', 'birdwatcher', 'positioning', 'habitats', 'ranging', 'dense', 'forests', 'urban', 'parks', 'armed', 'essential', 'tools', 'binoculars', 'field', 'guides', 'guides', 'invaluable', 'distinguishing', 'species', 'noting', 'characteristics', 'color', 'patterns', 'sizes', 'distinctive', 'markings', 'additionally', 'listening', 'plays', 'crucial', 'role', 'birdwatching', 'ability', 'recognize', 'birdsongs', 'calls', 'reveal', 'presence', 'species', 'hidden', 'view', 'practice', 'also', 'involves', 'recording', 'observations', 'often', 'journal', 'digital', 'app', 'contributes', 'citizen', 'science', 'providing', 'data', 'bird', 'populations', 'migration', 'patterns', 'aspect', 'birdwatching', 'underscores', 'significance', 'beyond', 'recreation', 'highlighting', 'contribution', 'conservation', 'efforts', 'endeavors', 'birdwatching', 'fosters', 'connection', 'nature', 'encourages', 'environmental', 'stewardship', 'provides', 'insights', 'ecological', 'roles', 'birds', 'within', 'habitats', 'serves', 'multifaceted', 'activity', 'combines', 'leisure', 'learning', 'conservation'] ... (Total: 122 )\n",
      "\n",
      "Document 2 Tokens: ['spelunking', 'adventurous', 'enlightening', 'hobby', 'attracted', 'enthusiasts', 'worldwide', 'thrilling', 'exploration', 'subterranean', 'world', 'activity', 'heightens', 'one', 'appreciation', 'planet', 'underground', 'beauty', 'also', 'sharpens', 'exploratory', 'skills', 'spelunkers', 'learn', 'navigate', 'caves', 'recognizing', 'formations', 'like', 'stalactites', 'stalagmites', 'mineral', 'deposits', 'journey', 'begins', 'spelunker', 'equipping', 'essential', 'gear', 'helmets', 'headlamps', 'protective', 'clothing', 'venturing', 'environments', 'ranging', 'vast', 'cave', 'systems', 'narrow', 'underground', 'passages', 'tools', 'crucial', 'safe', 'navigation', 'observation', 'geological', 'features', 'enabling', 'spelunkers', 'identify', 'appreciate', 'unique', 'characteristics', 'cave', 'moreover', 'listening', 'plays', 'pivotal', 'role', 'spelunking', 'sounds', 'dripping', 'water', 'echo', 'chamber', 'enhance', 'sensory', 'experience', 'practice', 'also', 'includes', 'documenting', 'discoveries', 'often', 'journal', 'digital', 'format', 'contributing', 'scientific', 'knowledge', 'providing', 'data', 'geology', 'hydrology', 'cave', 'biology', 'aspect', 'spelunking', 'emphasizes', 'value', 'beyond', 'adventure', 'highlighting', 'contribution', 'scientific', 'understanding', 'conservation', 'pursuits', 'spelunking', 'fosters', 'connection', 'earth', 'hidden', 'landscapes', 'promotes', 'environmental', 'awareness', 'provides', 'insights', 'geological', 'processes', 'shape', 'world', 'serves', 'multifaceted', 'activity', 'blends', 'excitement', 'education', 'environmental', 'stewardship'] ... (Total: 133 )\n",
      "\n",
      "Document 3 Tokens: ['golfing', 'refined', 'strategic', 'hobby', 'enchanted', 'enthusiasts', 'worldwide', 'blend', 'skill', 'patience', 'outdoor', 'beauty', 'activity', 'deepens', 'one', 'appreciation', 'meticulously', 'designed', 'landscapes', 'also', 'hones', 'precision', 'focus', 'golfers', 'learn', 'master', 'strokes', 'understand', 'course', 'topography', 'gauge', 'environmental', 'factors', 'like', 'wind', 'terrain', 'experience', 'begins', 'golfer', 'equipping', 'essential', 'gear', 'clubs', 'balls', 'tees', 'embarking', 'courses', 'range', 'lush', 'greens', 'challenging', 'sand', 'traps', 'water', 'hazards', 'tools', 'indispensable', 'executing', 'variety', 'shots', 'allowing', 'golfers', 'navigate', 'courses', 'aiming', 'minimize', 'strokes', 'moreover', 'observation', 'plays', 'crucial', 'role', 'golfing', 'ability', 'read', 'greens', 'anticipate', 'ball', 'paths', 'significantly', 'influence', 'gameplay', 'practice', 'also', 'involves', 'keeping', 'score', 'often', 'digital', 'app', 'scorecard', 'adds', 'competitive', 'element', 'enables', 'tracking', 'progress', 'skill', 'improvement', 'aspect', 'golfing', 'underscores', 'appeal', 'beyond', 'leisure', 'highlighting', 'capacity', 'personal', 'challenge', 'mental', 'discipline', 'endeavors', 'golfing', 'fosters', 'connection', 'outdoors', 'encourages', 'sportsmanship', 'provides', 'insights', 'personal', 'strategy', 'resilience', 'serves', 'multifaceted', 'activity', 'combines', 'relaxation', 'challenge', 'personal', 'development'] ... (Total: 131 )\n",
      "\n"
     ]
    }
   ],
   "source": [
    "# Stop Words Removal\n",
    "from nltk.corpus import stopwords\n",
    "# Get the English stopwords\n",
    "stop_words = set(stopwords.words('english'))\n",
    "\n",
    "# Remove stopwords\n",
    "no_stopwords_docs = []\n",
    "for tokens in no_punctuation_docs:\n",
    "    filtered_tokens = [token for token in tokens if token not in stop_words]\n",
    "    no_stopwords_docs.append(filtered_tokens)\n",
    "\n",
    "# Print the documents without stopwords, along with their token counts\n",
    "print(\"\\nDocuments with Tokens Lowercased, Punctuation Removed, and Stopwords Removed:\")\n",
    "for i, doc in enumerate(no_stopwords_docs):\n",
    "    print(f\"Document {i+1} Tokens:\", doc, \"... (Total:\", len(doc), \")\\n\")"
   ]
  },
  {
   "cell_type": "code",
   "execution_count": 9,
   "id": "17b70eb3",
   "metadata": {},
   "outputs": [
    {
     "name": "stdout",
     "output_type": "stream",
     "text": [
      "\n",
      "Documents with Tokens Lowercased, Punctuation Removed, and Stopwords Including 'also' Removed:\n",
      "Document 1 Tokens: ['birdwatching', 'study', 'serene', 'educational', 'hobby', 'captivated', 'enthusiasts', 'worldwide', 'offering', 'intimate', 'glimpse', 'avian', 'world', 'activity', 'deepens', 'one', 'appreciation', 'nature', 'diversity', 'enhances', 'observational', 'skills', 'birdwatchers', 'learn', 'identify', 'species', 'plumage', 'calls', 'behavior', 'process', 'begins', 'birdwatcher', 'positioning', 'habitats', 'ranging', 'dense', 'forests', 'urban', 'parks', 'armed', 'essential', 'tools', 'binoculars', 'field', 'guides', 'guides', 'invaluable', 'distinguishing', 'species', 'noting', 'characteristics', 'color', 'patterns', 'sizes', 'distinctive', 'markings', 'additionally', 'listening', 'plays', 'crucial', 'role', 'birdwatching', 'ability', 'recognize', 'birdsongs', 'calls', 'reveal', 'presence', 'species', 'hidden', 'view', 'practice', 'involves', 'recording', 'observations', 'often', 'journal', 'digital', 'app', 'contributes', 'citizen', 'science', 'providing', 'data', 'bird', 'populations', 'migration', 'patterns', 'aspect', 'birdwatching', 'underscores', 'significance', 'beyond', 'recreation', 'highlighting', 'contribution', 'conservation', 'efforts', 'endeavors', 'birdwatching', 'fosters', 'connection', 'nature', 'encourages', 'environmental', 'stewardship', 'provides', 'insights', 'ecological', 'roles', 'birds', 'within', 'habitats', 'serves', 'multifaceted', 'activity', 'combines', 'leisure', 'learning', 'conservation'] ... (Total: 120 )\n",
      "\n",
      "Document 2 Tokens: ['spelunking', 'adventurous', 'enlightening', 'hobby', 'attracted', 'enthusiasts', 'worldwide', 'thrilling', 'exploration', 'subterranean', 'world', 'activity', 'heightens', 'one', 'appreciation', 'planet', 'underground', 'beauty', 'sharpens', 'exploratory', 'skills', 'spelunkers', 'learn', 'navigate', 'caves', 'recognizing', 'formations', 'like', 'stalactites', 'stalagmites', 'mineral', 'deposits', 'journey', 'begins', 'spelunker', 'equipping', 'essential', 'gear', 'helmets', 'headlamps', 'protective', 'clothing', 'venturing', 'environments', 'ranging', 'vast', 'cave', 'systems', 'narrow', 'underground', 'passages', 'tools', 'crucial', 'safe', 'navigation', 'observation', 'geological', 'features', 'enabling', 'spelunkers', 'identify', 'appreciate', 'unique', 'characteristics', 'cave', 'moreover', 'listening', 'plays', 'pivotal', 'role', 'spelunking', 'sounds', 'dripping', 'water', 'echo', 'chamber', 'enhance', 'sensory', 'experience', 'practice', 'includes', 'documenting', 'discoveries', 'often', 'journal', 'digital', 'format', 'contributing', 'scientific', 'knowledge', 'providing', 'data', 'geology', 'hydrology', 'cave', 'biology', 'aspect', 'spelunking', 'emphasizes', 'value', 'beyond', 'adventure', 'highlighting', 'contribution', 'scientific', 'understanding', 'conservation', 'pursuits', 'spelunking', 'fosters', 'connection', 'earth', 'hidden', 'landscapes', 'promotes', 'environmental', 'awareness', 'provides', 'insights', 'geological', 'processes', 'shape', 'world', 'serves', 'multifaceted', 'activity', 'blends', 'excitement', 'education', 'environmental', 'stewardship'] ... (Total: 131 )\n",
      "\n",
      "Document 3 Tokens: ['golfing', 'refined', 'strategic', 'hobby', 'enchanted', 'enthusiasts', 'worldwide', 'blend', 'skill', 'patience', 'outdoor', 'beauty', 'activity', 'deepens', 'one', 'appreciation', 'meticulously', 'designed', 'landscapes', 'hones', 'precision', 'focus', 'golfers', 'learn', 'master', 'strokes', 'understand', 'course', 'topography', 'gauge', 'environmental', 'factors', 'like', 'wind', 'terrain', 'experience', 'begins', 'golfer', 'equipping', 'essential', 'gear', 'clubs', 'balls', 'tees', 'embarking', 'courses', 'range', 'lush', 'greens', 'challenging', 'sand', 'traps', 'water', 'hazards', 'tools', 'indispensable', 'executing', 'variety', 'shots', 'allowing', 'golfers', 'navigate', 'courses', 'aiming', 'minimize', 'strokes', 'moreover', 'observation', 'plays', 'crucial', 'role', 'golfing', 'ability', 'read', 'greens', 'anticipate', 'ball', 'paths', 'significantly', 'influence', 'gameplay', 'practice', 'involves', 'keeping', 'score', 'often', 'digital', 'app', 'scorecard', 'adds', 'competitive', 'element', 'enables', 'tracking', 'progress', 'skill', 'improvement', 'aspect', 'golfing', 'underscores', 'appeal', 'beyond', 'leisure', 'highlighting', 'capacity', 'personal', 'challenge', 'mental', 'discipline', 'endeavors', 'golfing', 'fosters', 'connection', 'outdoors', 'encourages', 'sportsmanship', 'provides', 'insights', 'personal', 'strategy', 'resilience', 'serves', 'multifaceted', 'activity', 'combines', 'relaxation', 'challenge', 'personal', 'development'] ... (Total: 129 )\n",
      "\n"
     ]
    }
   ],
   "source": [
    "# Add 'also' to the set of stopwords\n",
    "stop_words.add('also')\n",
    "\n",
    "# Remove stopwords again, now including 'also'\n",
    "no_stopwords_including_also_docs = []\n",
    "for tokens in no_stopwords_docs:  # We'll start from the already stopword-removed docs\n",
    "    filtered_tokens = [token for token in tokens if token not in stop_words]\n",
    "    no_stopwords_including_also_docs.append(filtered_tokens)\n",
    "\n",
    "# Print the documents without 'also' and other stopwords, along with their token counts\n",
    "print(\"\\nDocuments with Tokens Lowercased, Punctuation Removed, and Stopwords Including 'also' Removed:\")\n",
    "for i, doc in enumerate(no_stopwords_including_also_docs):\n",
    "    print(f\"Document {i+1} Tokens:\", doc, \"... (Total:\", len(doc), \")\\n\")"
   ]
  },
  {
   "cell_type": "markdown",
   "id": "b884ffb1",
   "metadata": {},
   "source": [
    "__Jump to PPT__"
   ]
  },
  {
   "cell_type": "markdown",
   "id": "6cece2fe",
   "metadata": {},
   "source": [
    "# Video 5 - Stemming and Lemmatization"
   ]
  },
  {
   "cell_type": "markdown",
   "id": "7655c63e",
   "metadata": {},
   "source": [
    "## Stemming"
   ]
  },
  {
   "cell_type": "code",
   "execution_count": 10,
   "id": "e6e0cbc2",
   "metadata": {},
   "outputs": [
    {
     "name": "stdout",
     "output_type": "stream",
     "text": [
      "\n",
      "Documents with Tokens Lowercased, Punctuation Removed, Stopwords Including 'also' Removed, and Stemmed:\n",
      "Document 1 Tokens: ['birdwatch', 'studi', 'seren', 'educ', 'hobbi', 'captiv', 'enthusiast', 'worldwid', 'offer', 'intim', 'glimps', 'avian', 'world', 'activ', 'deepen', 'one', 'appreci', 'natur', 'divers', 'enhanc', 'observ', 'skill', 'birdwatch', 'learn', 'identifi', 'speci', 'plumag', 'call', 'behavior', 'process', 'begin', 'birdwatch', 'posit', 'habitat', 'rang', 'dens', 'forest', 'urban', 'park', 'arm', 'essenti', 'tool', 'binocular', 'field', 'guid', 'guid', 'invalu', 'distinguish', 'speci', 'note', 'characterist', 'color', 'pattern', 'size', 'distinct', 'mark', 'addit', 'listen', 'play', 'crucial', 'role', 'birdwatch', 'abil', 'recogn', 'birdsong', 'call', 'reveal', 'presenc', 'speci', 'hidden', 'view', 'practic', 'involv', 'record', 'observ', 'often', 'journal', 'digit', 'app', 'contribut', 'citizen', 'scienc', 'provid', 'data', 'bird', 'popul', 'migrat', 'pattern', 'aspect', 'birdwatch', 'underscor', 'signific', 'beyond', 'recreat', 'highlight', 'contribut', 'conserv', 'effort', 'endeavor', 'birdwatch', 'foster', 'connect', 'natur', 'encourag', 'environment', 'stewardship', 'provid', 'insight', 'ecolog', 'role', 'bird', 'within', 'habitat', 'serv', 'multifacet', 'activ', 'combin', 'leisur', 'learn', 'conserv'] ... (Total: 120 )\n",
      "\n",
      "Document 2 Tokens: ['spelunk', 'adventur', 'enlighten', 'hobbi', 'attract', 'enthusiast', 'worldwid', 'thrill', 'explor', 'subterranean', 'world', 'activ', 'heighten', 'one', 'appreci', 'planet', 'underground', 'beauti', 'sharpen', 'exploratori', 'skill', 'spelunk', 'learn', 'navig', 'cave', 'recogn', 'format', 'like', 'stalactit', 'stalagmit', 'miner', 'deposit', 'journey', 'begin', 'spelunk', 'equip', 'essenti', 'gear', 'helmet', 'headlamp', 'protect', 'cloth', 'ventur', 'environ', 'rang', 'vast', 'cave', 'system', 'narrow', 'underground', 'passag', 'tool', 'crucial', 'safe', 'navig', 'observ', 'geolog', 'featur', 'enabl', 'spelunk', 'identifi', 'appreci', 'uniqu', 'characterist', 'cave', 'moreov', 'listen', 'play', 'pivot', 'role', 'spelunk', 'sound', 'drip', 'water', 'echo', 'chamber', 'enhanc', 'sensori', 'experi', 'practic', 'includ', 'document', 'discoveri', 'often', 'journal', 'digit', 'format', 'contribut', 'scientif', 'knowledg', 'provid', 'data', 'geolog', 'hydrolog', 'cave', 'biolog', 'aspect', 'spelunk', 'emphas', 'valu', 'beyond', 'adventur', 'highlight', 'contribut', 'scientif', 'understand', 'conserv', 'pursuit', 'spelunk', 'foster', 'connect', 'earth', 'hidden', 'landscap', 'promot', 'environment', 'awar', 'provid', 'insight', 'geolog', 'process', 'shape', 'world', 'serv', 'multifacet', 'activ', 'blend', 'excit', 'educ', 'environment', 'stewardship'] ... (Total: 131 )\n",
      "\n",
      "Document 3 Tokens: ['golf', 'refin', 'strateg', 'hobbi', 'enchant', 'enthusiast', 'worldwid', 'blend', 'skill', 'patienc', 'outdoor', 'beauti', 'activ', 'deepen', 'one', 'appreci', 'meticul', 'design', 'landscap', 'hone', 'precis', 'focu', 'golfer', 'learn', 'master', 'stroke', 'understand', 'cours', 'topographi', 'gaug', 'environment', 'factor', 'like', 'wind', 'terrain', 'experi', 'begin', 'golfer', 'equip', 'essenti', 'gear', 'club', 'ball', 'tee', 'embark', 'cours', 'rang', 'lush', 'green', 'challeng', 'sand', 'trap', 'water', 'hazard', 'tool', 'indispens', 'execut', 'varieti', 'shot', 'allow', 'golfer', 'navig', 'cours', 'aim', 'minim', 'stroke', 'moreov', 'observ', 'play', 'crucial', 'role', 'golf', 'abil', 'read', 'green', 'anticip', 'ball', 'path', 'significantli', 'influenc', 'gameplay', 'practic', 'involv', 'keep', 'score', 'often', 'digit', 'app', 'scorecard', 'add', 'competit', 'element', 'enabl', 'track', 'progress', 'skill', 'improv', 'aspect', 'golf', 'underscor', 'appeal', 'beyond', 'leisur', 'highlight', 'capac', 'person', 'challeng', 'mental', 'disciplin', 'endeavor', 'golf', 'foster', 'connect', 'outdoor', 'encourag', 'sportsmanship', 'provid', 'insight', 'person', 'strategi', 'resili', 'serv', 'multifacet', 'activ', 'combin', 'relax', 'challeng', 'person', 'develop'] ... (Total: 129 )\n",
      "\n"
     ]
    }
   ],
   "source": [
    "from nltk.stem import PorterStemmer\n",
    "\n",
    "# Initialize the Porter Stemmer\n",
    "stemmer = PorterStemmer()\n",
    "\n",
    "# Apply stemming to the documents\n",
    "stemmed_docs = []\n",
    "for tokens in no_stopwords_including_also_docs:\n",
    "    stemmed_tokens = [stemmer.stem(token) for token in tokens]\n",
    "    stemmed_docs.append(stemmed_tokens)\n",
    "\n",
    "# Print the stemmed documents, along with their token counts\n",
    "print(\"\\nDocuments with Tokens Lowercased, Punctuation Removed, Stopwords Including 'also' Removed, and Stemmed:\")\n",
    "for i, doc in enumerate(stemmed_docs):\n",
    "    print(f\"Document {i+1} Tokens:\", doc, \"... (Total:\", len(doc), \")\\n\")\n"
   ]
  },
  {
   "cell_type": "markdown",
   "id": "7e754e13",
   "metadata": {},
   "source": [
    "### Advantages-\n",
    "- Faster and simpler: It's computationally less expensive than other techniques like lemmatization.\n",
    "- Reduces vocabulary size: By grouping words with similar stems, it helps manage large datasets more efficiently.\n",
    "\n",
    "### Disadvantages\n",
    "- The most prevelant one is Oversimplification: Can lead to incorrect stems, like transforming \"cars\" and \"care\" into the same stem \"car\".\n",
    "- Meaning loss: Removing suffixes can alter the word's meaning, causing confusion. For eg- in our case the word intimate has been replaced with the word intim.\n",
    "- Not context-aware: Doesn't consider different grammatical roles a word can play within a sentence.\n"
   ]
  },
  {
   "cell_type": "markdown",
   "id": "c71df6c2",
   "metadata": {},
   "source": [
    "## Lemmatization"
   ]
  },
  {
   "cell_type": "code",
   "execution_count": 11,
   "id": "f09fa696",
   "metadata": {
    "scrolled": false
   },
   "outputs": [
    {
     "name": "stdout",
     "output_type": "stream",
     "text": [
      "\n",
      "Documents with Tokens Lowercased, Punctuation Removed, Stopwords Including 'also' Removed, and Lemmatized:\n",
      "Document 1 Tokens: ['birdwatching', 'study', 'serene', 'educational', 'hobby', 'captivated', 'enthusiast', 'worldwide', 'offering', 'intimate', 'glimpse', 'avian', 'world', 'activity', 'deepens', 'one', 'appreciation', 'nature', 'diversity', 'enhances', 'observational', 'skill', 'birdwatchers', 'learn', 'identify', 'specie', 'plumage', 'call', 'behavior', 'process', 'begin', 'birdwatcher', 'positioning', 'habitat', 'ranging', 'dense', 'forest', 'urban', 'park', 'armed', 'essential', 'tool', 'binoculars', 'field', 'guide', 'guide', 'invaluable', 'distinguishing', 'specie', 'noting', 'characteristic', 'color', 'pattern', 'size', 'distinctive', 'marking', 'additionally', 'listening', 'play', 'crucial', 'role', 'birdwatching', 'ability', 'recognize', 'birdsong', 'call', 'reveal', 'presence', 'specie', 'hidden', 'view', 'practice', 'involves', 'recording', 'observation', 'often', 'journal', 'digital', 'app', 'contributes', 'citizen', 'science', 'providing', 'data', 'bird', 'population', 'migration', 'pattern', 'aspect', 'birdwatching', 'underscore', 'significance', 'beyond', 'recreation', 'highlighting', 'contribution', 'conservation', 'effort', 'endeavor', 'birdwatching', 'foster', 'connection', 'nature', 'encourages', 'environmental', 'stewardship', 'provides', 'insight', 'ecological', 'role', 'bird', 'within', 'habitat', 'serf', 'multifaceted', 'activity', 'combine', 'leisure', 'learning', 'conservation'] ... (Total: 120 )\n",
      "\n",
      "Document 2 Tokens: ['spelunking', 'adventurous', 'enlightening', 'hobby', 'attracted', 'enthusiast', 'worldwide', 'thrilling', 'exploration', 'subterranean', 'world', 'activity', 'heightens', 'one', 'appreciation', 'planet', 'underground', 'beauty', 'sharpens', 'exploratory', 'skill', 'spelunker', 'learn', 'navigate', 'cave', 'recognizing', 'formation', 'like', 'stalactite', 'stalagmite', 'mineral', 'deposit', 'journey', 'begin', 'spelunker', 'equipping', 'essential', 'gear', 'helmet', 'headlamp', 'protective', 'clothing', 'venturing', 'environment', 'ranging', 'vast', 'cave', 'system', 'narrow', 'underground', 'passage', 'tool', 'crucial', 'safe', 'navigation', 'observation', 'geological', 'feature', 'enabling', 'spelunker', 'identify', 'appreciate', 'unique', 'characteristic', 'cave', 'moreover', 'listening', 'play', 'pivotal', 'role', 'spelunking', 'sound', 'dripping', 'water', 'echo', 'chamber', 'enhance', 'sensory', 'experience', 'practice', 'includes', 'documenting', 'discovery', 'often', 'journal', 'digital', 'format', 'contributing', 'scientific', 'knowledge', 'providing', 'data', 'geology', 'hydrology', 'cave', 'biology', 'aspect', 'spelunking', 'emphasizes', 'value', 'beyond', 'adventure', 'highlighting', 'contribution', 'scientific', 'understanding', 'conservation', 'pursuit', 'spelunking', 'foster', 'connection', 'earth', 'hidden', 'landscape', 'promotes', 'environmental', 'awareness', 'provides', 'insight', 'geological', 'process', 'shape', 'world', 'serf', 'multifaceted', 'activity', 'blend', 'excitement', 'education', 'environmental', 'stewardship'] ... (Total: 131 )\n",
      "\n",
      "Document 3 Tokens: ['golfing', 'refined', 'strategic', 'hobby', 'enchanted', 'enthusiast', 'worldwide', 'blend', 'skill', 'patience', 'outdoor', 'beauty', 'activity', 'deepens', 'one', 'appreciation', 'meticulously', 'designed', 'landscape', 'hone', 'precision', 'focus', 'golfer', 'learn', 'master', 'stroke', 'understand', 'course', 'topography', 'gauge', 'environmental', 'factor', 'like', 'wind', 'terrain', 'experience', 'begin', 'golfer', 'equipping', 'essential', 'gear', 'club', 'ball', 'tee', 'embarking', 'course', 'range', 'lush', 'green', 'challenging', 'sand', 'trap', 'water', 'hazard', 'tool', 'indispensable', 'executing', 'variety', 'shot', 'allowing', 'golfer', 'navigate', 'course', 'aiming', 'minimize', 'stroke', 'moreover', 'observation', 'play', 'crucial', 'role', 'golfing', 'ability', 'read', 'green', 'anticipate', 'ball', 'path', 'significantly', 'influence', 'gameplay', 'practice', 'involves', 'keeping', 'score', 'often', 'digital', 'app', 'scorecard', 'add', 'competitive', 'element', 'enables', 'tracking', 'progress', 'skill', 'improvement', 'aspect', 'golfing', 'underscore', 'appeal', 'beyond', 'leisure', 'highlighting', 'capacity', 'personal', 'challenge', 'mental', 'discipline', 'endeavor', 'golfing', 'foster', 'connection', 'outdoors', 'encourages', 'sportsmanship', 'provides', 'insight', 'personal', 'strategy', 'resilience', 'serf', 'multifaceted', 'activity', 'combine', 'relaxation', 'challenge', 'personal', 'development'] ... (Total: 129 )\n",
      "\n"
     ]
    }
   ],
   "source": [
    "from nltk.stem import WordNetLemmatizer\n",
    "\n",
    "# Initialize the WordNet Lemmatizer\n",
    "lemmatizer = WordNetLemmatizer()\n",
    "\n",
    "# Apply lemmatization to the documents\n",
    "lemmatized_docs = []\n",
    "for tokens in no_stopwords_including_also_docs:\n",
    "    lemmatized_tokens = [lemmatizer.lemmatize(token) for token in tokens]\n",
    "    lemmatized_docs.append(lemmatized_tokens)\n",
    "\n",
    "# Print the lemmatized documents, along with their token counts\n",
    "print(\"\\nDocuments with Tokens Lowercased, Punctuation Removed, Stopwords Including 'also' Removed, and Lemmatized:\")\n",
    "for i, doc in enumerate(lemmatized_docs):\n",
    "    print(f\"Document {i+1} Tokens:\", doc, \"... (Total:\", len(doc), \")\\n\")"
   ]
  },
  {
   "cell_type": "code",
   "execution_count": null,
   "id": "f64c895e",
   "metadata": {},
   "outputs": [],
   "source": [
    "# install spacy\n",
    "#!pip install spacy"
   ]
  },
  {
   "cell_type": "code",
   "execution_count": null,
   "id": "c17b5417",
   "metadata": {
    "scrolled": true
   },
   "outputs": [],
   "source": [
    "#!python -m spacy download en_core_web_sm"
   ]
  },
  {
   "cell_type": "code",
   "execution_count": 12,
   "id": "374eefa0",
   "metadata": {},
   "outputs": [
    {
     "name": "stdout",
     "output_type": "stream",
     "text": [
      "\n",
      "Documents Lemmatized using spaCy:\n",
      "Document 1 Tokens: ['birdwatch', 'study', 'serene', 'educational', 'hobby', 'captivate', 'enthusiast', 'worldwide', 'offer', 'intimate', 'glimpse', 'avian', 'world', 'activity', 'deepen', 'one', 'appreciation', 'nature', 'diversity', 'enhance', 'observational', 'skill', 'birdwatcher', 'learn', 'identify', 'species', 'plumage', 'call', 'behavior', 'process', 'begin', 'birdwatcher', 'position', 'habitat', 'range', 'dense', 'forest', 'urban', 'park', 'arm', 'essential', 'tool', 'binocular', 'field', 'guide', 'guide', 'invaluable', 'distinguish', 'specie', 'note', 'characteristic', 'color', 'pattern', 'size', 'distinctive', 'marking', 'additionally', 'listen', 'play', 'crucial', 'role', 'birdwatching', 'ability', 'recognize', 'birdsong', 'call', 'reveal', 'presence', 'specie', 'hidden', 'view', 'practice', 'involve', 'recording', 'observation', 'often', 'journal', 'digital', 'app', 'contribute', 'citizen', 'science', 'provide', 'datum', 'bird', 'population', 'migration', 'pattern', 'aspect', 'birdwatch', 'underscores', 'significance', 'beyond', 'recreation', 'highlighting', 'contribution', 'conservation', 'effort', 'endeavor', 'birdwatch', 'foster', 'connection', 'nature', 'encourage', 'environmental', 'stewardship', 'provide', 'insight', 'ecological', 'role', 'bird', 'within', 'habitat', 'serve', 'multifaceted', 'activity', 'combine', 'leisure', 'learn', 'conservation'] ... (Total: 120 )\n",
      "\n",
      "Document 2 Tokens: ['spelunk', 'adventurous', 'enlighten', 'hobby', 'attract', 'enthusiast', 'worldwide', 'thrilling', 'exploration', 'subterranean', 'world', 'activity', 'heighten', 'one', 'appreciation', 'planet', 'underground', 'beauty', 'sharpen', 'exploratory', 'skill', 'spelunker', 'learn', 'navigate', 'cave', 'recognize', 'formation', 'like', 'stalactite', 'stalagmite', 'mineral', 'deposit', 'journey', 'begin', 'spelunker', 'equip', 'essential', 'gear', 'helmet', 'headlamp', 'protective', 'clothing', 'venture', 'environment', 'range', 'vast', 'cave', 'system', 'narrow', 'underground', 'passage', 'tool', 'crucial', 'safe', 'navigation', 'observation', 'geological', 'feature', 'enable', 'spelunker', 'identify', 'appreciate', 'unique', 'characteristic', 'cave', 'moreover', 'listen', 'play', 'pivotal', 'role', 'spelunking', 'sound', 'dripping', 'water', 'echo', 'chamber', 'enhance', 'sensory', 'experience', 'practice', 'include', 'document', 'discovery', 'often', 'journal', 'digital', 'format', 'contribute', 'scientific', 'knowledge', 'provide', 'datum', 'geology', 'hydrology', 'cave', 'biology', 'aspect', 'spelunking', 'emphasize', 'value', 'beyond', 'adventure', 'highlighting', 'contribution', 'scientific', 'understanding', 'conservation', 'pursuit', 'spelunk', 'foster', 'connection', 'earth', 'hide', 'landscape', 'promote', 'environmental', 'awareness', 'provide', 'insight', 'geological', 'process', 'shape', 'world', 'serve', 'multifaceted', 'activity', 'blend', 'excitement', 'education', 'environmental', 'stewardship'] ... (Total: 131 )\n",
      "\n",
      "Document 3 Tokens: ['golf', 'refine', 'strategic', 'hobby', 'enchant', 'enthusiast', 'worldwide', 'blend', 'skill', 'patience', 'outdoor', 'beauty', 'activity', 'deepen', 'one', 'appreciation', 'meticulously', 'design', 'landscape', 'hones', 'precision', 'focus', 'golfer', 'learn', 'master', 'stroke', 'understand', 'course', 'topography', 'gauge', 'environmental', 'factor', 'like', 'wind', 'terrain', 'experience', 'begin', 'golfer', 'equip', 'essential', 'gear', 'club', 'ball', 'tee', 'embark', 'course', 'range', 'lush', 'green', 'challenge', 'sand', 'trap', 'water', 'hazard', 'tool', 'indispensable', 'execute', 'variety', 'shot', 'allow', 'golfer', 'navigate', 'course', 'aim', 'minimize', 'stroke', 'moreover', 'observation', 'play', 'crucial', 'role', 'golfing', 'ability', 'read', 'green', 'anticipate', 'ball', 'path', 'significantly', 'influence', 'gameplay', 'practice', 'involve', 'keep', 'score', 'often', 'digital', 'app', 'scorecard', 'add', 'competitive', 'element', 'enable', 'track', 'progress', 'skill', 'improvement', 'aspect', 'golf', 'underscore', 'appeal', 'beyond', 'leisure', 'highlighting', 'capacity', 'personal', 'challenge', 'mental', 'discipline', 'endeavor', 'golf', 'foster', 'connection', 'outdoors', 'encourage', 'sportsmanship', 'provide', 'insight', 'personal', 'strategy', 'resilience', 'serve', 'multifaceted', 'activity', 'combine', 'relaxation', 'challenge', 'personal', 'development'] ... (Total: 129 )\n",
      "\n"
     ]
    }
   ],
   "source": [
    "import spacy\n",
    "\n",
    "# Load the English language model with lemmatization capabilities\n",
    "nlp = spacy.load(\"en_core_web_sm\")\n",
    "\n",
    "# Apply lemmatization using spaCy\n",
    "spacy_lemmatized_docs = []\n",
    "for doc in no_stopwords_including_also_docs:\n",
    "    # Process the document using spaCy\n",
    "    spacy_doc = nlp(' '.join(doc))\n",
    "    # Extract lemmatized tokens\n",
    "    spacy_lemmatized_tokens = [token.lemma_ for token in spacy_doc]\n",
    "    spacy_lemmatized_docs.append(spacy_lemmatized_tokens)\n",
    "\n",
    "# Print the lemmatized documents using spaCy, along with their token counts\n",
    "print(\"\\nDocuments Lemmatized using spaCy:\")\n",
    "for i, doc in enumerate(spacy_lemmatized_docs):\n",
    "    print(f\"Document {i+1} Tokens:\", doc, \"... (Total:\", len(doc), \")\\n\")"
   ]
  },
  {
   "cell_type": "markdown",
   "id": "8c88a045",
   "metadata": {},
   "source": [
    "### Advantages:\n",
    "- Preserves Meaning: Lemmatization aims to find the dictionary form of a word, resulting in a base form that still retains its meaning. Stemming, on the other hand, simply chops off suffixes without considering context, potentially leading to meaningless stems like \"lov\" for \"loved\" or \"walk\" for \"walker.\"\n",
    "- More Accurate: Lemmatization utilizes dictionaries and linguistic information to choose the correct base form based on the word's part-of-speech and context. Stemming is rule-based and can produce ambiguous results, especially for words with multiple meanings or non-standard forms.\n",
    "- Improves downstream tasks: The accuracy of lemmatization leads to better performance in tasks like information retrieval, text classification, and sentiment analysis because words with similar meanings are grouped correctly. Stemming's less accurate results can negatively impact these tasks.\n",
    "\n",
    "### Disadvantages:\n",
    "- Slower and computationally expensive: Lemmatization requires accessing dictionaries and performing more complex analysis, making it slower than stemming, which uses simple rules.\n",
    "- Not always perfect: Even lemmatization can make mistakes in complex cases or due to limitations in dictionaries and linguistic models."
   ]
  },
  {
   "cell_type": "markdown",
   "id": "6efc9f84",
   "metadata": {},
   "source": [
    "# Video 6 - Vocabulary Building and Vectorization"
   ]
  },
  {
   "cell_type": "markdown",
   "id": "68a25402",
   "metadata": {},
   "source": [
    "## Vocabulary Building"
   ]
  },
  {
   "cell_type": "code",
   "execution_count": 13,
   "id": "d190eb69",
   "metadata": {
    "scrolled": true
   },
   "outputs": [
    {
     "name": "stdout",
     "output_type": "stream",
     "text": [
      "Vocabulary:\n",
      "['ability', 'activity', 'add', 'additionally', 'adventure', 'adventurous', 'aim', 'allow', 'anticipate', 'app', 'appeal', 'appreciate', 'appreciation', 'arm', 'aspect', 'attract', 'avian', 'awareness', 'ball', 'beauty', 'begin', 'behavior', 'beyond', 'binocular', 'biology', 'bird', 'birdsong', 'birdwatch', 'birdwatcher', 'birdwatching', 'blend', 'call', 'capacity', 'captivate', 'cave', 'challenge', 'chamber', 'characteristic', 'citizen', 'clothing', 'club', 'color', 'combine', 'competitive', 'connection', 'conservation', 'contribute', 'contribution', 'course', 'crucial', 'datum', 'deepen', 'dense', 'deposit', 'design', 'development', 'digital', 'discipline', 'discovery', 'distinctive', 'distinguish', 'diversity', 'document', 'dripping', 'earth', 'echo', 'ecological', 'education', 'educational', 'effort', 'element', 'embark', 'emphasize', 'enable', 'enchant', 'encourage', 'endeavor', 'enhance', 'enlighten', 'enthusiast', 'environment', 'environmental', 'equip', 'essential', 'excitement', 'execute', 'experience', 'exploration', 'exploratory', 'factor', 'feature', 'field', 'focus', 'forest', 'format', 'formation', 'foster', 'gameplay', 'gauge', 'gear', 'geological', 'geology', 'glimpse', 'golf', 'golfer', 'golfing', 'green', 'guide', 'habitat', 'hazard', 'headlamp', 'heighten', 'helmet', 'hidden', 'hide', 'highlighting', 'hobby', 'hones', 'hydrology', 'identify', 'improvement', 'include', 'indispensable', 'influence', 'insight', 'intimate', 'invaluable', 'involve', 'journal', 'journey', 'keep', 'knowledge', 'landscape', 'learn', 'leisure', 'like', 'listen', 'lush', 'marking', 'master', 'mental', 'meticulously', 'migration', 'mineral', 'minimize', 'moreover', 'multifaceted', 'narrow', 'nature', 'navigate', 'navigation', 'note', 'observation', 'observational', 'offer', 'often', 'one', 'outdoor', 'outdoors', 'park', 'passage', 'path', 'patience', 'pattern', 'personal', 'pivotal', 'planet', 'play', 'plumage', 'population', 'position', 'practice', 'precision', 'presence', 'process', 'progress', 'promote', 'protective', 'provide', 'pursuit', 'range', 'read', 'recognize', 'recording', 'recreation', 'refine', 'relaxation', 'resilience', 'reveal', 'role', 'safe', 'sand', 'science', 'scientific', 'score', 'scorecard', 'sensory', 'serene', 'serve', 'shape', 'sharpen', 'shot', 'significance', 'significantly', 'size', 'skill', 'sound', 'specie', 'species', 'spelunk', 'spelunker', 'spelunking', 'sportsmanship', 'stalactite', 'stalagmite', 'stewardship', 'strategic', 'strategy', 'stroke', 'study', 'subterranean', 'system', 'tee', 'terrain', 'thrilling', 'tool', 'topography', 'track', 'trap', 'underground', 'underscore', 'underscores', 'understand', 'understanding', 'unique', 'urban', 'value', 'variety', 'vast', 'venture', 'view', 'water', 'wind', 'within', 'world', 'worldwide']\n",
      "Vocabulary Size: 246\n"
     ]
    }
   ],
   "source": [
    "# Initialize an empty set to store the vocabulary\n",
    "vocabulary = set()\n",
    "\n",
    "# Iterate over each document and add each unique word to the vocabulary set\n",
    "for doc in spacy_lemmatized_docs:\n",
    "    for token in doc:\n",
    "        vocabulary.add(token)\n",
    "\n",
    "# Convert the set to a sorted list if you want the vocabulary to be ordered\n",
    "vocabulary = sorted(list(vocabulary))\n",
    "\n",
    "# Print the vocabulary\n",
    "print(\"Vocabulary:\")\n",
    "print(vocabulary)\n",
    "print(f\"Vocabulary Size: {len(vocabulary)}\")"
   ]
  },
  {
   "cell_type": "markdown",
   "id": "a8db33c7",
   "metadata": {},
   "source": [
    "## Vectorization"
   ]
  },
  {
   "cell_type": "code",
   "execution_count": 14,
   "id": "ec9fb6fb",
   "metadata": {},
   "outputs": [],
   "source": [
    "# import necessary library\n",
    "from sklearn.feature_extraction.text import CountVectorizer"
   ]
  },
  {
   "cell_type": "code",
   "execution_count": 15,
   "id": "7cea0a0a",
   "metadata": {},
   "outputs": [],
   "source": [
    "# Convert the lemmatized documents back into string format for vectorization\n",
    "documents = [\" \".join(doc) for doc in spacy_lemmatized_docs]"
   ]
  },
  {
   "cell_type": "markdown",
   "id": "ae0c1b42",
   "metadata": {},
   "source": [
    "### One-Hot Encoding"
   ]
  },
  {
   "cell_type": "code",
   "execution_count": 16,
   "id": "240b248a",
   "metadata": {},
   "outputs": [],
   "source": [
    "vectorizer_ohe = CountVectorizer(vocabulary=vocabulary, binary=True)"
   ]
  },
  {
   "cell_type": "code",
   "execution_count": 17,
   "id": "90231ce1",
   "metadata": {},
   "outputs": [
    {
     "name": "stdout",
     "output_type": "stream",
     "text": [
      "Feature Names: ['ability' 'activity' 'add' 'additionally' 'adventure' 'adventurous' 'aim'\n",
      " 'allow' 'anticipate' 'app' 'appeal' 'appreciate' 'appreciation' 'arm'\n",
      " 'aspect' 'attract' 'avian' 'awareness' 'ball' 'beauty' 'begin' 'behavior'\n",
      " 'beyond' 'binocular' 'biology' 'bird' 'birdsong' 'birdwatch'\n",
      " 'birdwatcher' 'birdwatching' 'blend' 'call' 'capacity' 'captivate' 'cave'\n",
      " 'challenge' 'chamber' 'characteristic' 'citizen' 'clothing' 'club'\n",
      " 'color' 'combine' 'competitive' 'connection' 'conservation' 'contribute'\n",
      " 'contribution' 'course' 'crucial' 'datum' 'deepen' 'dense' 'deposit'\n",
      " 'design' 'development' 'digital' 'discipline' 'discovery' 'distinctive'\n",
      " 'distinguish' 'diversity' 'document' 'dripping' 'earth' 'echo'\n",
      " 'ecological' 'education' 'educational' 'effort' 'element' 'embark'\n",
      " 'emphasize' 'enable' 'enchant' 'encourage' 'endeavor' 'enhance'\n",
      " 'enlighten' 'enthusiast' 'environment' 'environmental' 'equip'\n",
      " 'essential' 'excitement' 'execute' 'experience' 'exploration'\n",
      " 'exploratory' 'factor' 'feature' 'field' 'focus' 'forest' 'format'\n",
      " 'formation' 'foster' 'gameplay' 'gauge' 'gear' 'geological' 'geology'\n",
      " 'glimpse' 'golf' 'golfer' 'golfing' 'green' 'guide' 'habitat' 'hazard'\n",
      " 'headlamp' 'heighten' 'helmet' 'hidden' 'hide' 'highlighting' 'hobby'\n",
      " 'hones' 'hydrology' 'identify' 'improvement' 'include' 'indispensable'\n",
      " 'influence' 'insight' 'intimate' 'invaluable' 'involve' 'journal'\n",
      " 'journey' 'keep' 'knowledge' 'landscape' 'learn' 'leisure' 'like'\n",
      " 'listen' 'lush' 'marking' 'master' 'mental' 'meticulously' 'migration'\n",
      " 'mineral' 'minimize' 'moreover' 'multifaceted' 'narrow' 'nature'\n",
      " 'navigate' 'navigation' 'note' 'observation' 'observational' 'offer'\n",
      " 'often' 'one' 'outdoor' 'outdoors' 'park' 'passage' 'path' 'patience'\n",
      " 'pattern' 'personal' 'pivotal' 'planet' 'play' 'plumage' 'population'\n",
      " 'position' 'practice' 'precision' 'presence' 'process' 'progress'\n",
      " 'promote' 'protective' 'provide' 'pursuit' 'range' 'read' 'recognize'\n",
      " 'recording' 'recreation' 'refine' 'relaxation' 'resilience' 'reveal'\n",
      " 'role' 'safe' 'sand' 'science' 'scientific' 'score' 'scorecard' 'sensory'\n",
      " 'serene' 'serve' 'shape' 'sharpen' 'shot' 'significance' 'significantly'\n",
      " 'size' 'skill' 'sound' 'specie' 'species' 'spelunk' 'spelunker'\n",
      " 'spelunking' 'sportsmanship' 'stalactite' 'stalagmite' 'stewardship'\n",
      " 'strategic' 'strategy' 'stroke' 'study' 'subterranean' 'system' 'tee'\n",
      " 'terrain' 'thrilling' 'tool' 'topography' 'track' 'trap' 'underground'\n",
      " 'underscore' 'underscores' 'understand' 'understanding' 'unique' 'urban'\n",
      " 'value' 'variety' 'vast' 'venture' 'view' 'water' 'wind' 'within' 'world'\n",
      " 'worldwide']\n",
      "Document-Term Matrix Shape: (3, 246)\n",
      "Frequency Counts:\n",
      " [[1 1 0 1 0 0 0 0 0 1 0 0 1 1 1 0 1 0 0 0 1 1 1 1 0 1 1 1 1 1 0 1 0 1 0 0\n",
      "  0 1 1 0 0 1 1 0 1 1 1 1 0 1 1 1 1 0 0 0 1 0 0 1 1 1 0 0 0 0 1 0 1 1 0 0\n",
      "  0 0 0 1 1 1 0 1 0 1 0 1 0 0 0 0 0 0 0 1 0 1 0 0 1 0 0 0 0 0 1 0 0 0 0 1\n",
      "  1 0 0 0 0 1 0 1 1 0 0 1 0 0 0 0 1 1 1 1 1 0 0 0 0 1 1 0 1 0 1 0 0 0 1 0\n",
      "  0 0 1 0 1 0 0 1 1 1 1 1 1 0 0 1 0 0 0 1 0 0 0 1 1 1 1 1 0 1 1 0 0 0 1 0\n",
      "  1 0 1 1 1 0 0 0 1 1 0 0 1 0 0 0 0 1 1 0 0 0 1 0 1 1 0 1 1 0 0 0 0 0 0 1\n",
      "  0 0 0 1 0 0 0 0 0 1 0 0 0 0 0 1 0 0 0 1 0 0 0 0 1 0 0 1 1 1]\n",
      " [0 1 0 0 1 1 0 0 0 0 0 1 1 0 1 1 0 1 0 1 1 0 1 0 1 0 0 0 0 0 1 0 0 0 1 0\n",
      "  1 1 0 1 0 0 0 0 1 1 1 1 0 1 1 0 0 1 0 0 1 0 1 0 0 0 1 1 1 1 0 1 0 0 0 0\n",
      "  1 1 0 0 0 1 1 1 1 1 1 1 1 0 1 1 1 0 1 0 0 0 1 1 1 0 0 1 1 1 0 0 0 0 0 0\n",
      "  0 0 1 1 1 0 1 1 1 0 1 1 0 1 0 0 1 0 0 0 1 1 0 1 1 1 0 1 1 0 0 0 0 0 0 1\n",
      "  0 1 1 1 0 1 1 0 1 0 0 1 1 0 0 0 1 0 0 0 0 1 1 1 0 0 0 1 0 0 1 0 1 1 1 1\n",
      "  1 0 1 0 0 0 0 0 0 1 1 0 0 1 0 0 1 0 1 1 1 0 0 0 0 1 1 0 0 1 1 1 0 1 1 1\n",
      "  0 0 0 0 1 1 0 0 1 1 0 0 0 1 0 0 0 1 1 0 1 0 1 1 0 1 0 0 1 1]\n",
      " [1 1 1 0 0 0 1 1 1 1 1 0 1 0 1 0 0 0 1 1 1 0 1 0 0 0 0 0 0 0 1 0 1 0 0 1\n",
      "  0 0 0 0 1 0 1 1 1 0 0 0 1 1 0 1 0 0 1 1 1 1 0 0 0 0 0 0 0 0 0 0 0 0 1 1\n",
      "  0 1 1 1 1 0 0 1 0 1 1 1 0 1 1 0 0 1 0 0 1 0 0 0 1 1 1 1 0 0 0 1 1 1 1 0\n",
      "  0 1 0 0 0 0 0 1 1 1 0 0 1 0 1 1 1 0 0 1 0 0 1 0 1 1 1 1 0 1 0 1 1 1 0 0\n",
      "  1 1 1 0 0 1 0 0 1 0 0 1 1 1 1 0 0 1 1 0 1 0 0 1 0 0 0 1 1 0 0 1 0 0 1 0\n",
      "  1 1 0 0 0 1 1 1 0 1 0 1 0 0 1 1 0 0 1 0 0 1 0 1 0 1 0 0 0 0 0 0 1 0 0 0\n",
      "  1 1 1 0 0 0 1 1 0 1 1 1 1 0 1 0 1 0 0 0 0 1 0 0 0 1 1 0 0 1]]\n"
     ]
    }
   ],
   "source": [
    "# Fit and transform the documents\n",
    "X = vectorizer_ohe.fit_transform(documents)\n",
    " \n",
    "# Get the feature names (vocabulary)\n",
    "feature_names = vectorizer_ohe.get_feature_names_out()\n",
    "\n",
    "# Display the feature names and the shape of the document-term matrix\n",
    "print(\"Feature Names:\", feature_names)\n",
    "print(\"Document-Term Matrix Shape:\", X.shape)\n",
    "\n",
    "# If you want to see the frequency count of each word in the document\n",
    "frequency_counts = X.toarray()\n",
    "print(\"Frequency Counts:\\n\", frequency_counts)"
   ]
  },
  {
   "cell_type": "code",
   "execution_count": 18,
   "id": "5243fd91",
   "metadata": {},
   "outputs": [
    {
     "data": {
      "text/html": [
       "<div>\n",
       "<style scoped>\n",
       "    .dataframe tbody tr th:only-of-type {\n",
       "        vertical-align: middle;\n",
       "    }\n",
       "\n",
       "    .dataframe tbody tr th {\n",
       "        vertical-align: top;\n",
       "    }\n",
       "\n",
       "    .dataframe thead tr th {\n",
       "        text-align: left;\n",
       "    }\n",
       "</style>\n",
       "<table border=\"1\" class=\"dataframe\">\n",
       "  <thead>\n",
       "    <tr>\n",
       "      <th></th>\n",
       "      <th>ability</th>\n",
       "      <th>activity</th>\n",
       "      <th>add</th>\n",
       "      <th>additionally</th>\n",
       "      <th>adventure</th>\n",
       "      <th>adventurous</th>\n",
       "      <th>aim</th>\n",
       "      <th>allow</th>\n",
       "      <th>anticipate</th>\n",
       "      <th>app</th>\n",
       "      <th>...</th>\n",
       "      <th>value</th>\n",
       "      <th>variety</th>\n",
       "      <th>vast</th>\n",
       "      <th>venture</th>\n",
       "      <th>view</th>\n",
       "      <th>water</th>\n",
       "      <th>wind</th>\n",
       "      <th>within</th>\n",
       "      <th>world</th>\n",
       "      <th>worldwide</th>\n",
       "    </tr>\n",
       "  </thead>\n",
       "  <tbody>\n",
       "    <tr>\n",
       "      <th>0</th>\n",
       "      <td>1</td>\n",
       "      <td>1</td>\n",
       "      <td>0</td>\n",
       "      <td>1</td>\n",
       "      <td>0</td>\n",
       "      <td>0</td>\n",
       "      <td>0</td>\n",
       "      <td>0</td>\n",
       "      <td>0</td>\n",
       "      <td>1</td>\n",
       "      <td>...</td>\n",
       "      <td>0</td>\n",
       "      <td>0</td>\n",
       "      <td>0</td>\n",
       "      <td>0</td>\n",
       "      <td>1</td>\n",
       "      <td>0</td>\n",
       "      <td>0</td>\n",
       "      <td>1</td>\n",
       "      <td>1</td>\n",
       "      <td>1</td>\n",
       "    </tr>\n",
       "    <tr>\n",
       "      <th>1</th>\n",
       "      <td>0</td>\n",
       "      <td>1</td>\n",
       "      <td>0</td>\n",
       "      <td>0</td>\n",
       "      <td>1</td>\n",
       "      <td>1</td>\n",
       "      <td>0</td>\n",
       "      <td>0</td>\n",
       "      <td>0</td>\n",
       "      <td>0</td>\n",
       "      <td>...</td>\n",
       "      <td>1</td>\n",
       "      <td>0</td>\n",
       "      <td>1</td>\n",
       "      <td>1</td>\n",
       "      <td>0</td>\n",
       "      <td>1</td>\n",
       "      <td>0</td>\n",
       "      <td>0</td>\n",
       "      <td>1</td>\n",
       "      <td>1</td>\n",
       "    </tr>\n",
       "    <tr>\n",
       "      <th>2</th>\n",
       "      <td>1</td>\n",
       "      <td>1</td>\n",
       "      <td>1</td>\n",
       "      <td>0</td>\n",
       "      <td>0</td>\n",
       "      <td>0</td>\n",
       "      <td>1</td>\n",
       "      <td>1</td>\n",
       "      <td>1</td>\n",
       "      <td>1</td>\n",
       "      <td>...</td>\n",
       "      <td>0</td>\n",
       "      <td>1</td>\n",
       "      <td>0</td>\n",
       "      <td>0</td>\n",
       "      <td>0</td>\n",
       "      <td>1</td>\n",
       "      <td>1</td>\n",
       "      <td>0</td>\n",
       "      <td>0</td>\n",
       "      <td>1</td>\n",
       "    </tr>\n",
       "  </tbody>\n",
       "</table>\n",
       "<p>3 rows × 246 columns</p>\n",
       "</div>"
      ],
      "text/plain": [
       "  ability activity add additionally adventure adventurous aim allow  \\\n",
       "0       1        1   0            1         0           0   0     0   \n",
       "1       0        1   0            0         1           1   0     0   \n",
       "2       1        1   1            0         0           0   1     1   \n",
       "\n",
       "  anticipate app  ... value variety vast venture view water wind within world  \\\n",
       "0          0   1  ...     0       0    0       0    1     0    0      1     1   \n",
       "1          0   0  ...     1       0    1       1    0     1    0      0     1   \n",
       "2          1   1  ...     0       1    0       0    0     1    1      0     0   \n",
       "\n",
       "  worldwide  \n",
       "0         1  \n",
       "1         1  \n",
       "2         1  \n",
       "\n",
       "[3 rows x 246 columns]"
      ]
     },
     "execution_count": 18,
     "metadata": {},
     "output_type": "execute_result"
    }
   ],
   "source": [
    "pd.DataFrame(X.toarray(), columns=[feature_names])"
   ]
  },
  {
   "cell_type": "markdown",
   "id": "be5c859a",
   "metadata": {},
   "source": [
    "### Observation\n",
    "- Not all words are present in all the 3 documents. For example, the word 'ability' is only present in documents one and three. Where as 'activity' is present in all three documents."
   ]
  },
  {
   "cell_type": "code",
   "execution_count": 19,
   "id": "6528d240",
   "metadata": {},
   "outputs": [],
   "source": [
    "# Initialize CountVectorizer\n",
    "count_vectorizer = CountVectorizer(vocabulary=vocabulary)"
   ]
  },
  {
   "cell_type": "code",
   "execution_count": 20,
   "id": "fc6e8e4c",
   "metadata": {},
   "outputs": [
    {
     "name": "stdout",
     "output_type": "stream",
     "text": [
      "Feature Names: ['ability' 'activity' 'add' 'additionally' 'adventure' 'adventurous' 'aim'\n",
      " 'allow' 'anticipate' 'app' 'appeal' 'appreciate' 'appreciation' 'arm'\n",
      " 'aspect' 'attract' 'avian' 'awareness' 'ball' 'beauty' 'begin' 'behavior'\n",
      " 'beyond' 'binocular' 'biology' 'bird' 'birdsong' 'birdwatch'\n",
      " 'birdwatcher' 'birdwatching' 'blend' 'call' 'capacity' 'captivate' 'cave'\n",
      " 'challenge' 'chamber' 'characteristic' 'citizen' 'clothing' 'club'\n",
      " 'color' 'combine' 'competitive' 'connection' 'conservation' 'contribute'\n",
      " 'contribution' 'course' 'crucial' 'datum' 'deepen' 'dense' 'deposit'\n",
      " 'design' 'development' 'digital' 'discipline' 'discovery' 'distinctive'\n",
      " 'distinguish' 'diversity' 'document' 'dripping' 'earth' 'echo'\n",
      " 'ecological' 'education' 'educational' 'effort' 'element' 'embark'\n",
      " 'emphasize' 'enable' 'enchant' 'encourage' 'endeavor' 'enhance'\n",
      " 'enlighten' 'enthusiast' 'environment' 'environmental' 'equip'\n",
      " 'essential' 'excitement' 'execute' 'experience' 'exploration'\n",
      " 'exploratory' 'factor' 'feature' 'field' 'focus' 'forest' 'format'\n",
      " 'formation' 'foster' 'gameplay' 'gauge' 'gear' 'geological' 'geology'\n",
      " 'glimpse' 'golf' 'golfer' 'golfing' 'green' 'guide' 'habitat' 'hazard'\n",
      " 'headlamp' 'heighten' 'helmet' 'hidden' 'hide' 'highlighting' 'hobby'\n",
      " 'hones' 'hydrology' 'identify' 'improvement' 'include' 'indispensable'\n",
      " 'influence' 'insight' 'intimate' 'invaluable' 'involve' 'journal'\n",
      " 'journey' 'keep' 'knowledge' 'landscape' 'learn' 'leisure' 'like'\n",
      " 'listen' 'lush' 'marking' 'master' 'mental' 'meticulously' 'migration'\n",
      " 'mineral' 'minimize' 'moreover' 'multifaceted' 'narrow' 'nature'\n",
      " 'navigate' 'navigation' 'note' 'observation' 'observational' 'offer'\n",
      " 'often' 'one' 'outdoor' 'outdoors' 'park' 'passage' 'path' 'patience'\n",
      " 'pattern' 'personal' 'pivotal' 'planet' 'play' 'plumage' 'population'\n",
      " 'position' 'practice' 'precision' 'presence' 'process' 'progress'\n",
      " 'promote' 'protective' 'provide' 'pursuit' 'range' 'read' 'recognize'\n",
      " 'recording' 'recreation' 'refine' 'relaxation' 'resilience' 'reveal'\n",
      " 'role' 'safe' 'sand' 'science' 'scientific' 'score' 'scorecard' 'sensory'\n",
      " 'serene' 'serve' 'shape' 'sharpen' 'shot' 'significance' 'significantly'\n",
      " 'size' 'skill' 'sound' 'specie' 'species' 'spelunk' 'spelunker'\n",
      " 'spelunking' 'sportsmanship' 'stalactite' 'stalagmite' 'stewardship'\n",
      " 'strategic' 'strategy' 'stroke' 'study' 'subterranean' 'system' 'tee'\n",
      " 'terrain' 'thrilling' 'tool' 'topography' 'track' 'trap' 'underground'\n",
      " 'underscore' 'underscores' 'understand' 'understanding' 'unique' 'urban'\n",
      " 'value' 'variety' 'vast' 'venture' 'view' 'water' 'wind' 'within' 'world'\n",
      " 'worldwide']\n",
      "Document-Term Matrix Shape: (3, 246)\n",
      "Frequency Counts:\n",
      " [[1 2 0 1 0 0 0 0 0 1 0 0 1 1 1 0 1 0 0 0 1 1 1 1 0 2 1 3 2 1 0 2 0 1 0 0\n",
      "  0 1 1 0 0 1 1 0 1 2 1 1 0 1 1 1 1 0 0 0 1 0 0 1 1 1 0 0 0 0 1 0 1 1 0 0\n",
      "  0 0 0 1 1 1 0 1 0 1 0 1 0 0 0 0 0 0 0 1 0 1 0 0 1 0 0 0 0 0 1 0 0 0 0 2\n",
      "  2 0 0 0 0 1 0 1 1 0 0 1 0 0 0 0 1 1 1 1 1 0 0 0 0 2 1 0 1 0 1 0 0 0 1 0\n",
      "  0 0 1 0 2 0 0 1 1 1 1 1 1 0 0 1 0 0 0 2 0 0 0 1 1 1 1 1 0 1 1 0 0 0 2 0\n",
      "  1 0 1 1 1 0 0 0 1 2 0 0 1 0 0 0 0 1 1 0 0 0 1 0 1 1 0 2 1 0 0 0 0 0 0 1\n",
      "  0 0 0 1 0 0 0 0 0 1 0 0 0 0 0 1 0 0 0 1 0 0 0 0 1 0 0 1 1 1]\n",
      " [0 2 0 0 1 1 0 0 0 0 0 1 1 0 1 1 0 1 0 1 1 0 1 0 1 0 0 0 0 0 1 0 0 0 4 0\n",
      "  1 1 0 1 0 0 0 0 1 1 1 1 0 1 1 0 0 1 0 0 1 0 1 0 0 0 1 1 1 1 0 1 0 0 0 0\n",
      "  1 1 0 0 0 1 1 1 1 2 1 1 1 0 1 1 1 0 1 0 0 0 1 1 1 0 0 1 2 1 0 0 0 0 0 0\n",
      "  0 0 1 1 1 0 1 1 1 0 1 1 0 1 0 0 1 0 0 0 1 1 0 1 1 1 0 1 1 0 0 0 0 0 0 1\n",
      "  0 1 1 1 0 1 1 0 1 0 0 1 1 0 0 0 1 0 0 0 0 1 1 1 0 0 0 1 0 0 1 0 1 1 2 1\n",
      "  1 0 1 0 0 0 0 0 0 1 1 0 0 2 0 0 1 0 1 1 1 0 0 0 0 1 1 0 0 2 3 2 0 1 1 1\n",
      "  0 0 0 0 1 1 0 0 1 1 0 0 0 2 0 0 0 1 1 0 1 0 1 1 0 1 0 0 2 1]\n",
      " [1 2 1 0 0 0 1 1 1 1 1 0 1 0 1 0 0 0 2 1 1 0 1 0 0 0 0 0 0 0 1 0 1 0 0 3\n",
      "  0 0 0 0 1 0 1 1 1 0 0 0 3 1 0 1 0 0 1 1 1 1 0 0 0 0 0 0 0 0 0 0 0 0 1 1\n",
      "  0 1 1 1 1 0 0 1 0 1 1 1 0 1 1 0 0 1 0 0 1 0 0 0 1 1 1 1 0 0 0 3 3 1 2 0\n",
      "  0 1 0 0 0 0 0 1 1 1 0 0 1 0 1 1 1 0 0 1 0 0 1 0 1 1 1 1 0 1 0 1 1 1 0 0\n",
      "  1 1 1 0 0 1 0 0 1 0 0 1 1 1 1 0 0 1 1 0 3 0 0 1 0 0 0 1 1 0 0 1 0 0 1 0\n",
      "  1 1 0 0 0 1 1 1 0 1 0 1 0 0 1 1 0 0 1 0 0 1 0 1 0 2 0 0 0 0 0 0 1 0 0 0\n",
      "  1 1 2 0 0 0 1 1 0 1 1 1 1 0 1 0 1 0 0 0 0 1 0 0 0 1 1 0 0 1]]\n"
     ]
    }
   ],
   "source": [
    "# Fit and transform the documents\n",
    "X = count_vectorizer.fit_transform(documents)\n",
    " \n",
    "# Get the feature names (vocabulary)\n",
    "feature_names = count_vectorizer.get_feature_names_out()\n",
    "\n",
    "# Display the feature names and the shape of the document-term matrix\n",
    "print(\"Feature Names:\", feature_names)\n",
    "print(\"Document-Term Matrix Shape:\", X.shape)\n",
    "\n",
    "# If you want to see the frequency count of each word in the document\n",
    "frequency_counts = X.toarray()\n",
    "print(\"Frequency Counts:\\n\", frequency_counts)"
   ]
  },
  {
   "cell_type": "code",
   "execution_count": 21,
   "id": "0fcc9486",
   "metadata": {},
   "outputs": [
    {
     "data": {
      "text/html": [
       "<div>\n",
       "<style scoped>\n",
       "    .dataframe tbody tr th:only-of-type {\n",
       "        vertical-align: middle;\n",
       "    }\n",
       "\n",
       "    .dataframe tbody tr th {\n",
       "        vertical-align: top;\n",
       "    }\n",
       "\n",
       "    .dataframe thead tr th {\n",
       "        text-align: left;\n",
       "    }\n",
       "</style>\n",
       "<table border=\"1\" class=\"dataframe\">\n",
       "  <thead>\n",
       "    <tr>\n",
       "      <th></th>\n",
       "      <th>ability</th>\n",
       "      <th>activity</th>\n",
       "      <th>add</th>\n",
       "      <th>additionally</th>\n",
       "      <th>adventure</th>\n",
       "      <th>adventurous</th>\n",
       "      <th>aim</th>\n",
       "      <th>allow</th>\n",
       "      <th>anticipate</th>\n",
       "      <th>app</th>\n",
       "      <th>...</th>\n",
       "      <th>value</th>\n",
       "      <th>variety</th>\n",
       "      <th>vast</th>\n",
       "      <th>venture</th>\n",
       "      <th>view</th>\n",
       "      <th>water</th>\n",
       "      <th>wind</th>\n",
       "      <th>within</th>\n",
       "      <th>world</th>\n",
       "      <th>worldwide</th>\n",
       "    </tr>\n",
       "  </thead>\n",
       "  <tbody>\n",
       "    <tr>\n",
       "      <th>0</th>\n",
       "      <td>1</td>\n",
       "      <td>2</td>\n",
       "      <td>0</td>\n",
       "      <td>1</td>\n",
       "      <td>0</td>\n",
       "      <td>0</td>\n",
       "      <td>0</td>\n",
       "      <td>0</td>\n",
       "      <td>0</td>\n",
       "      <td>1</td>\n",
       "      <td>...</td>\n",
       "      <td>0</td>\n",
       "      <td>0</td>\n",
       "      <td>0</td>\n",
       "      <td>0</td>\n",
       "      <td>1</td>\n",
       "      <td>0</td>\n",
       "      <td>0</td>\n",
       "      <td>1</td>\n",
       "      <td>1</td>\n",
       "      <td>1</td>\n",
       "    </tr>\n",
       "    <tr>\n",
       "      <th>1</th>\n",
       "      <td>0</td>\n",
       "      <td>2</td>\n",
       "      <td>0</td>\n",
       "      <td>0</td>\n",
       "      <td>1</td>\n",
       "      <td>1</td>\n",
       "      <td>0</td>\n",
       "      <td>0</td>\n",
       "      <td>0</td>\n",
       "      <td>0</td>\n",
       "      <td>...</td>\n",
       "      <td>1</td>\n",
       "      <td>0</td>\n",
       "      <td>1</td>\n",
       "      <td>1</td>\n",
       "      <td>0</td>\n",
       "      <td>1</td>\n",
       "      <td>0</td>\n",
       "      <td>0</td>\n",
       "      <td>2</td>\n",
       "      <td>1</td>\n",
       "    </tr>\n",
       "    <tr>\n",
       "      <th>2</th>\n",
       "      <td>1</td>\n",
       "      <td>2</td>\n",
       "      <td>1</td>\n",
       "      <td>0</td>\n",
       "      <td>0</td>\n",
       "      <td>0</td>\n",
       "      <td>1</td>\n",
       "      <td>1</td>\n",
       "      <td>1</td>\n",
       "      <td>1</td>\n",
       "      <td>...</td>\n",
       "      <td>0</td>\n",
       "      <td>1</td>\n",
       "      <td>0</td>\n",
       "      <td>0</td>\n",
       "      <td>0</td>\n",
       "      <td>1</td>\n",
       "      <td>1</td>\n",
       "      <td>0</td>\n",
       "      <td>0</td>\n",
       "      <td>1</td>\n",
       "    </tr>\n",
       "  </tbody>\n",
       "</table>\n",
       "<p>3 rows × 246 columns</p>\n",
       "</div>"
      ],
      "text/plain": [
       "  ability activity add additionally adventure adventurous aim allow  \\\n",
       "0       1        2   0            1         0           0   0     0   \n",
       "1       0        2   0            0         1           1   0     0   \n",
       "2       1        2   1            0         0           0   1     1   \n",
       "\n",
       "  anticipate app  ... value variety vast venture view water wind within world  \\\n",
       "0          0   1  ...     0       0    0       0    1     0    0      1     1   \n",
       "1          0   0  ...     1       0    1       1    0     1    0      0     2   \n",
       "2          1   1  ...     0       1    0       0    0     1    1      0     0   \n",
       "\n",
       "  worldwide  \n",
       "0         1  \n",
       "1         1  \n",
       "2         1  \n",
       "\n",
       "[3 rows x 246 columns]"
      ]
     },
     "execution_count": 21,
     "metadata": {},
     "output_type": "execute_result"
    }
   ],
   "source": [
    "pd.DataFrame(X.toarray(), columns=[feature_names])"
   ]
  },
  {
   "cell_type": "markdown",
   "id": "d5f9665c",
   "metadata": {},
   "source": [
    "### Observation\n",
    "- Unlike last dataframe, this time we get the count of numbers in each document. The word 'world' is present in document one once, twice in document two and zero times in document 3."
   ]
  }
 ],
 "metadata": {
  "kernelspec": {
   "display_name": "Python 3",
   "language": "python",
   "name": "python3"
  },
  "language_info": {
   "codemirror_mode": {
    "name": "ipython",
    "version": 3
   },
   "file_extension": ".py",
   "mimetype": "text/x-python",
   "name": "python",
   "nbconvert_exporter": "python",
   "pygments_lexer": "ipython3",
   "version": "3.8.8"
  }
 },
 "nbformat": 4,
 "nbformat_minor": 5
}
